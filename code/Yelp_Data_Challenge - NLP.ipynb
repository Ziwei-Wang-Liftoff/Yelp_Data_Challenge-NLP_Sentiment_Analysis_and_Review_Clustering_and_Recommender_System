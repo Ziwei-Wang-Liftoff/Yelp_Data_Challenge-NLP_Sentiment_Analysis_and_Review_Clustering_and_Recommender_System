{
 "cells": [
  {
   "cell_type": "markdown",
   "metadata": {},
   "source": [
    "# Yelp_Data_Challenge - NLP"
   ]
  },
  {
   "cell_type": "markdown",
   "metadata": {},
   "source": [
    "## Main tasks\n",
    "1. Load the dataset\n",
    "2. Define feature variables\n",
    "3. Define target variable\n",
    "4. Create train and test dataset\n",
    "5. Get NLP representation of the documents\n",
    "6. Similar review search engine\n",
    "    - 6.1 Summary on the search engine\n",
    "7. Classifying positive/negative review\n",
    "    - 7.1 KNN\n",
    "    - 7.2 Naive-Bayes Classifier\n",
    "    - 7.3 Logistic Regression Classifier\n",
    "        - 7.3.1 What are the key features (words) that make the positive prediction?\n",
    "        - 7.3.2 Summary\n",
    "        - 7.3.3 What are the key features (words) that make the negative prediction?\n",
    "        - 7.3.4 Summary\n",
    "    - 7.4 Random Forest Classifier\n",
    "        - 7.4.1 What features (words) are important by inspecting the RFC model?\n",
    "    - 7.5 Model Comparison\n",
    "8. Use cross validation to evaluate classifiers\n",
    "    - 8.1 KNN\n",
    "    - 8.2 Naive-Bayes Classifier\n",
    "    - 8.3 Logistic Regression Classifier\n",
    "    - 8.4 Random Forest Classifier\n",
    "    - 8.5 Model Comparison    \n",
    "9. Use grid search to find the best predictable classifier\n",
    "    - 9.1 Grid search - KNN\n",
    "    - 9.2 Grid search - Naive Bayes\n",
    "    - 9.3 Grid search - Logistic Regression\n",
    "    - 9.4 Grid search - Random Forest\n",
    "    - 9.5 Model comparison\n",
    "10. Use PCA to reduce dimensionality\n",
    "    - 10.1 Stardardize features\n",
    "    - 10.2 Use PCA to transform data (train and test) and get princial components\n",
    "    - 10.3 See how much (and how much percentage of) variance the principal components explain\n",
    "    - 10.4 Plot proportion of variance explained with top K principal components\n",
    "11. Classifying positive/negative review with PCA preprocessing\n",
    "    - 11.1 KNN\n",
    "        - 11.1.1 Use standardized tf-idf vectors as features\n",
    "        - 11.1.2 Use (Stardardized + PCA) tf-idf vectors as features\n",
    "        - 11.2 Logistic Regression Classifier\n",
    "        - 11.2.1 Use standardized tf-idf vectors as features\n",
    "        - 11.2.2 Use (Stardardized + PCA) tf-idf vectors as features\n",
    "        - 11.2.3 Visualization: PCA components \n",
    "    - 11.3 Random Forest Classifier\n",
    "        - 11.3.1 Use standardized tf-idf vectors as features\n",
    "        - 11.3.2 Use (Stardardized + PCA) tf-idf vectors as features\n",
    "        - 11.3.3 Visualization: PCA components\n",
    "    - 11.4 Model comparison"
   ]
  },
  {
   "cell_type": "markdown",
   "metadata": {},
   "source": [
    "## 1. Load the dataset "
   ]
  },
  {
   "cell_type": "code",
   "execution_count": 51,
   "metadata": {},
   "outputs": [],
   "source": [
    "import pandas as pd\n",
    "import numpy as np"
   ]
  },
  {
   "cell_type": "code",
   "execution_count": 52,
   "metadata": {},
   "outputs": [],
   "source": [
    "df = pd.read_csv('dataset/last_2_years_restaurant_reviews.csv')"
   ]
  },
  {
   "cell_type": "code",
   "execution_count": 53,
   "metadata": {},
   "outputs": [
    {
     "data": {
      "text/html": [
       "<div>\n",
       "<style scoped>\n",
       "    .dataframe tbody tr th:only-of-type {\n",
       "        vertical-align: middle;\n",
       "    }\n",
       "\n",
       "    .dataframe tbody tr th {\n",
       "        vertical-align: top;\n",
       "    }\n",
       "\n",
       "    .dataframe thead th {\n",
       "        text-align: right;\n",
       "    }\n",
       "</style>\n",
       "<table border=\"1\" class=\"dataframe\">\n",
       "  <thead>\n",
       "    <tr style=\"text-align: right;\">\n",
       "      <th></th>\n",
       "      <th>name</th>\n",
       "      <th>categories</th>\n",
       "      <th>avg_stars</th>\n",
       "      <th>cool</th>\n",
       "      <th>date</th>\n",
       "      <th>funny</th>\n",
       "      <th>review_id</th>\n",
       "      <th>stars</th>\n",
       "      <th>text</th>\n",
       "      <th>useful</th>\n",
       "      <th>user_id</th>\n",
       "    </tr>\n",
       "  </thead>\n",
       "  <tbody>\n",
       "    <tr>\n",
       "      <th>0</th>\n",
       "      <td>Delmonico Steakhouse</td>\n",
       "      <td>['Cajun/Creole', 'Steakhouses', 'Restaurants']</td>\n",
       "      <td>4.0</td>\n",
       "      <td>0</td>\n",
       "      <td>2016-03-31</td>\n",
       "      <td>0</td>\n",
       "      <td>6SgvNWJltnZhW7duJgZ42w</td>\n",
       "      <td>5</td>\n",
       "      <td>This is mine and my fiancé's favorite steakhou...</td>\n",
       "      <td>0</td>\n",
       "      <td>oFyOUOeGTRZhFPF9uTqrTQ</td>\n",
       "    </tr>\n",
       "    <tr>\n",
       "      <th>1</th>\n",
       "      <td>Delmonico Steakhouse</td>\n",
       "      <td>['Cajun/Creole', 'Steakhouses', 'Restaurants']</td>\n",
       "      <td>4.0</td>\n",
       "      <td>0</td>\n",
       "      <td>2016-02-10</td>\n",
       "      <td>0</td>\n",
       "      <td>UxFpgng8dPMWOj99653k5Q</td>\n",
       "      <td>5</td>\n",
       "      <td>Truly Fantastic!  Best Steak ever. Service was...</td>\n",
       "      <td>0</td>\n",
       "      <td>aVOGlN9fZ-BXcbtj6dbf0g</td>\n",
       "    </tr>\n",
       "  </tbody>\n",
       "</table>\n",
       "</div>"
      ],
      "text/plain": [
       "                   name                                      categories  \\\n",
       "0  Delmonico Steakhouse  ['Cajun/Creole', 'Steakhouses', 'Restaurants']   \n",
       "1  Delmonico Steakhouse  ['Cajun/Creole', 'Steakhouses', 'Restaurants']   \n",
       "\n",
       "   avg_stars  cool        date  funny               review_id  stars  \\\n",
       "0        4.0     0  2016-03-31      0  6SgvNWJltnZhW7duJgZ42w      5   \n",
       "1        4.0     0  2016-02-10      0  UxFpgng8dPMWOj99653k5Q      5   \n",
       "\n",
       "                                                text  useful  \\\n",
       "0  This is mine and my fiancé's favorite steakhou...       0   \n",
       "1  Truly Fantastic!  Best Steak ever. Service was...       0   \n",
       "\n",
       "                  user_id  \n",
       "0  oFyOUOeGTRZhFPF9uTqrTQ  \n",
       "1  aVOGlN9fZ-BXcbtj6dbf0g  "
      ]
     },
     "execution_count": 53,
     "metadata": {},
     "output_type": "execute_result"
    }
   ],
   "source": [
    "df.head(2)"
   ]
  },
  {
   "cell_type": "markdown",
   "metadata": {},
   "source": [
    "## 2. Define feature variables"
   ]
  },
  {
   "cell_type": "code",
   "execution_count": 54,
   "metadata": {},
   "outputs": [],
   "source": [
    "# Take the values of the column that contains review text data, save to a variable named \"documents\"\n",
    "documents = df['text'].values"
   ]
  },
  {
   "cell_type": "code",
   "execution_count": 55,
   "metadata": {
    "scrolled": true
   },
   "outputs": [
    {
     "data": {
      "text/plain": [
       "((447033,), dtype('O'))"
      ]
     },
     "execution_count": 55,
     "metadata": {},
     "output_type": "execute_result"
    }
   ],
   "source": [
    "# inspect documents, e.g. check the size, take a peek at elements of the numpy array\n",
    "documents.shape, documents.dtype"
   ]
  },
  {
   "cell_type": "markdown",
   "metadata": {},
   "source": [
    "## 3. Define target variable"
   ]
  },
  {
   "cell_type": "markdown",
   "metadata": {},
   "source": [
    "#### I am interested in perfect (5 stars) and imperfect (1-4 stars) rating"
   ]
  },
  {
   "cell_type": "code",
   "execution_count": 56,
   "metadata": {},
   "outputs": [
    {
     "data": {
      "text/plain": [
       "array([ True,  True,  True, False,  True])"
      ]
     },
     "execution_count": 56,
     "metadata": {},
     "output_type": "execute_result"
    }
   ],
   "source": [
    "# Make a column and take the values, save to a variable named \"target\"\n",
    "# 1 stands for perfect, 0 stand for imperfect\n",
    "df['target'] = df['stars'] == 5\n",
    "target = df['target'].values\n",
    "target[:5]"
   ]
  },
  {
   "cell_type": "markdown",
   "metadata": {},
   "source": [
    "#### We want to look at the statistic of the target variable"
   ]
  },
  {
   "cell_type": "code",
   "execution_count": 57,
   "metadata": {},
   "outputs": [
    {
     "data": {
      "text/plain": [
       "0.4710144441238119"
      ]
     },
     "execution_count": 57,
     "metadata": {},
     "output_type": "execute_result"
    }
   ],
   "source": [
    "# the size of perfect and imperfect are comparable\n",
    "target.mean()"
   ]
  },
  {
   "cell_type": "code",
   "execution_count": 58,
   "metadata": {},
   "outputs": [
    {
     "data": {
      "text/plain": [
       "((447033,), dtype('bool'))"
      ]
     },
     "execution_count": 58,
     "metadata": {},
     "output_type": "execute_result"
    }
   ],
   "source": [
    "target.shape, target.dtype"
   ]
  },
  {
   "cell_type": "markdown",
   "metadata": {},
   "source": [
    "## 4. Create train dataset and test dataset"
   ]
  },
  {
   "cell_type": "code",
   "execution_count": 59,
   "metadata": {},
   "outputs": [],
   "source": [
    "from sklearn.cross_validation import train_test_split"
   ]
  },
  {
   "cell_type": "code",
   "execution_count": 60,
   "metadata": {},
   "outputs": [],
   "source": [
    "# Documents is your X, target is your y\n",
    "# Now split the data to training set 80% and test set 20%\n",
    "# Split to documents_train, documents_test, target_train, target_test\n",
    "documents_train, documents_test, target_train, target_test = train_test_split(\n",
    "    documents, target, test_size = 0.2, random_state = 42)"
   ]
  },
  {
   "cell_type": "markdown",
   "metadata": {},
   "source": [
    "## 5. Get NLP representation of the documents"
   ]
  },
  {
   "cell_type": "code",
   "execution_count": 61,
   "metadata": {},
   "outputs": [],
   "source": [
    "from sklearn.feature_extraction.text import TfidfVectorizer\n",
    "from nltk.corpus import stopwords"
   ]
  },
  {
   "cell_type": "code",
   "execution_count": 62,
   "metadata": {},
   "outputs": [],
   "source": [
    "# Create TfidfVectorizer, and name it vectorizer\n",
    "tfidf_vectorizer = TfidfVectorizer(stop_words = stopwords.words('english'), max_features=1000)"
   ]
  },
  {
   "cell_type": "code",
   "execution_count": 63,
   "metadata": {},
   "outputs": [],
   "source": [
    "# Train the model with your training data\n",
    "vectors_train = tfidf_vectorizer.fit_transform(documents_train).toarray()"
   ]
  },
  {
   "cell_type": "code",
   "execution_count": 64,
   "metadata": {},
   "outputs": [
    {
     "name": "stdout",
     "output_type": "stream",
     "text": [
      "1000\n"
     ]
    }
   ],
   "source": [
    "# Get the vocab of your tfidf\n",
    "words = tfidf_vectorizer.get_feature_names()\n",
    "# Since I use max_features = 1000, the length shoud be equal to 1000\n",
    "print(len(words))"
   ]
  },
  {
   "cell_type": "code",
   "execution_count": 65,
   "metadata": {},
   "outputs": [
    {
     "name": "stdout",
     "output_type": "stream",
     "text": [
      "(89407, 1000)\n"
     ]
    }
   ],
   "source": [
    "# Use the trained model to transform your test data\n",
    "vectors_test = tfidf_vectorizer.transform(documents_test).toarray()\n",
    "print(vectors_test.shape)"
   ]
  },
  {
   "cell_type": "markdown",
   "metadata": {},
   "source": [
    "## 6. Similar review search engine"
   ]
  },
  {
   "cell_type": "code",
   "execution_count": 16,
   "metadata": {},
   "outputs": [],
   "source": [
    "import numpy as np\n",
    "\n",
    "# We will need these helper methods pretty soon\n",
    "\n",
    "def get_top_values(lst, n, labels):\n",
    "    '''\n",
    "    INPUT: LIST, INTEGER, LIST\n",
    "    OUTPUT: LIST\n",
    "\n",
    "    Given a list of values, find the indices with the highest n values.\n",
    "    Return the labels for each of these indices.\n",
    "\n",
    "    e.g.\n",
    "    lst = [7, 3, 2, 4, 1]\n",
    "    n = 2\n",
    "    labels = [\"cat\", \"dog\", \"mouse\", \"pig\", \"rabbit\"]\n",
    "    output: [\"cat\", \"pig\"]\n",
    "    '''\n",
    "    return [labels[i] for i in np.argsort(lst)[::-1][:n]]  # np.argsort by default sorts values in ascending order\n",
    "\n",
    "def get_bottom_values(lst, n, labels):\n",
    "    '''\n",
    "    INPUT: LIST, INTEGER, LIST\n",
    "    OUTPUT: LIST\n",
    "\n",
    "    Given a list of values, find the indices with the lowest n values.\n",
    "    Return the labels for each of these indices.\n",
    "\n",
    "    e.g.\n",
    "    lst = [7, 3, 2, 4, 1]\n",
    "    n = 2\n",
    "    labels = [\"cat\", \"dog\", \"mouse\", \"pig\", \"rabbit\"]\n",
    "    output: [\"mouse\", \"rabbit\"]\n",
    "    '''\n",
    "    return [labels[i] for i in np.argsort(lst)[:n]]\n"
   ]
  },
  {
   "cell_type": "code",
   "execution_count": 17,
   "metadata": {},
   "outputs": [],
   "source": [
    "# Let's use cosine similarity\n",
    "from sklearn.metrics.pairwise import cosine_similarity"
   ]
  },
  {
   "cell_type": "code",
   "execution_count": 18,
   "metadata": {},
   "outputs": [
    {
     "name": "stdout",
     "output_type": "stream",
     "text": [
      "[\"I know. Why 3 stars?  The food here is exceptional. My steak was masterfully cooked and served. The sides were equally amazing. Here's why 3 stars. Everything I just said was greatly diminished by the noise. The music is way too loud. The bar area was right behind our table and the folks in the bar were so loud that between them and the music, our party of 6 literally could not hold a conversation. Also, once the place began to fill up, it seemed as though everyone was trying to talk over all the noise. I don't mind a place with music that's a little too loud, etc but again, this greatly diminished our experience to the point that we won't be back. However if you don't mind the noise this is one of the best steaks in town.\"]\n"
     ]
    }
   ],
   "source": [
    "# Draw an arbitrary review from test (unseen in training) documents\n",
    "random_number = 10\n",
    "search_query = [documents_test[random_number]]\n",
    "print(search_query)"
   ]
  },
  {
   "cell_type": "code",
   "execution_count": 19,
   "metadata": {},
   "outputs": [],
   "source": [
    "# Transform the drawn review(s) to vector(s)\n",
    "vector_search_query = tfidf_vectorizer.transform(search_query).toarray()"
   ]
  },
  {
   "cell_type": "code",
   "execution_count": 20,
   "metadata": {},
   "outputs": [],
   "source": [
    "# Calculate the similarity score(s) between vector(s) and training vectors\n",
    "similarity_scores = cosine_similarity(vector_search_query, vectors_train)"
   ]
  },
  {
   "cell_type": "code",
   "execution_count": 21,
   "metadata": {},
   "outputs": [
    {
     "data": {
      "text/plain": [
       "(1, 357626)"
      ]
     },
     "execution_count": 21,
     "metadata": {},
     "output_type": "execute_result"
    }
   ],
   "source": [
    "similarity_scores.shape "
   ]
  },
  {
   "cell_type": "code",
   "execution_count": 22,
   "metadata": {},
   "outputs": [],
   "source": [
    "# Let's find top 5 similar reviews\n",
    "n = 5\n",
    "top_similar_reviews = get_top_values(similarity_scores[0], n, documents_train)"
   ]
  },
  {
   "cell_type": "code",
   "execution_count": 62,
   "metadata": {},
   "outputs": [
    {
     "name": "stdout",
     "output_type": "stream",
     "text": [
      "Our search query:\n",
      "I know. Why 3 stars?  The food here is exceptional. My steak was masterfully cooked and served. The sides were equally amazing. Here's why 3 stars. Everything I just said was greatly diminished by the noise. The music is way too loud. The bar area was right behind our table and the folks in the bar were so loud that between them and the music, our party of 6 literally could not hold a conversation. Also, once the place began to fill up, it seemed as though everyone was trying to talk over all the noise. I don't mind a place with music that's a little too loud, etc but again, this greatly diminished our experience to the point that we won't be back. However if you don't mind the noise this is one of the best steaks in town.\n"
     ]
    }
   ],
   "source": [
    "# print('Our search query:')\n",
    "# print(search_query[0]) "
   ]
  },
  {
   "cell_type": "code",
   "execution_count": 23,
   "metadata": {},
   "outputs": [
    {
     "name": "stdout",
     "output_type": "stream",
     "text": [
      "query\n",
      "I know. Why 3 stars?  The food here is exceptional. My steak was masterfully cooked and served. The sides were equally amazing. Here's why 3 stars. Everything I just said was greatly diminished by the noise. The music is way too loud. The bar area was right behind our table and the folks in the bar were so loud that between them and the music, our party of 6 literally could not hold a conversation. Also, once the place began to fill up, it seemed as though everyone was trying to talk over all the noise. I don't mind a place with music that's a little too loud, etc but again, this greatly diminished our experience to the point that we won't be back. However if you don't mind the noise this is one of the best steaks in town.\n",
      "\n",
      "\n",
      "Most 5 similar reviews:\n",
      "#0:\n",
      "Don't eat here if you want to have a conversation with the party you are with.\n",
      "\n",
      "Girls night out is always at Cabo Mexican Restaurant in the Santa Fe.  We like to sit at the bar, have a drink or two, play some video poker and talk.  On Wednesday, we sat down and immediately noticed the music was extremely loud, like it is in the casinos on the Strip or Fremont St.  The manager was making the rounds and asked how we were.  I said, we'd be a lot better if we could hear ourselves talking....what was with the LOUD music.  She apologized and said it's a new policy from upper management.  They want the music to be heard into the casino area to help entice customers.  I then asked if it was possible to turn it down a little....it's a Wednesday night, \"SENIOR CITIZEN\" day and most of the customers are over 50, probably a little hard of hearing and really don't enjoy the music blasting over their conversations.  We were told \"management\" would not allow it and do walk by and signal if the music isn't loud enough in the casino (which, by the way, has it's own piped in music going out there).   I am hard of hearing and had a tough time hearing our bartender and a hard time hearing my friends.  The manager said it was exceptionally loud there because the speakers face down toward the bar area, not OUT toward the casino.  She said it was not as loud farther in the restaruant.\n",
      "\n",
      "We asked to be seated at a table, as far back as we could get.  It was still extremely loud and not a fun, relaxing dinner since we had to talk to loud to be heard.\n",
      "\n",
      "Santa Fe Station is a LOCALS casino, catering to an older crowd.  We are done with the loud music scene and when we are out for dinner, like to have a conversation without screaming.  Cabo may want to re-think this whole loud music concept....going to lose a lot of older customers, which on a Wednesday night are the majority of customers.  \n",
      "\n",
      "As for the rest of the experience....GT is great behind the bar, servers were excellent, food was good.....music is what will make us find a new location to spend our time and money.\n",
      "#1:\n",
      "The food and was good and I liked the round building with all the windows. Unfortunately there was zero ambiance. The music (Rick Astley, really?) was so loud it was impossible to have a normal conversation and everyone trying to talk over the ridiculously loud music made it even louder. Not the steakhouse experience I was hoping for, at that price point.\n",
      "#2:\n",
      "Great neighborhood  county bar.  Good band. Friendly staff.  Only negative is that the music was too loud.  Very hard to hold a conversation with those at your table.  Had to talk very loud to be heard\n",
      "#3:\n",
      "The food is good, but dang the loud music needs to be turned down a notch... I'm Hispanic but the music is a little too loud. It's not that necessary..\n",
      "#4:\n",
      "The music is entirely too loud. This place has the potential to be an enjoyable, relaxing experience if the music volume was much lower. Even the employees say the music is extremely loud. Employees can't even take an order over the bar without hearing difficulties.\n"
     ]
    }
   ],
   "source": [
    "print('query')\n",
    "print(search_query[0])  \n",
    "\n",
    "print('\\n\\nMost %s similar reviews:' % n)\n",
    "for i, review in enumerate(top_similar_reviews):\n",
    "    print('#%s:' % i)\n",
    "    print(review)"
   ]
  },
  {
   "cell_type": "markdown",
   "metadata": {},
   "source": [
    "### 6.1 Summary on the search engine\n",
    "- It seems all top five most similar reviews are reasonable, all of the most similar reviews returned were complaining about the noisy environment and complimenting the delicious food, which are close to our query."
   ]
  },
  {
   "cell_type": "markdown",
   "metadata": {},
   "source": [
    "## 7. Classifying positive/negative review\n",
    "- 7.1 KNN\n",
    "- 7.2 Naive-Bayes Classifier\n",
    "- 7.3 Logistic Regression Classifier\n",
    "- 7.4 Random Forest Classifier\n",
    "- 7.5 Model Comparison"
   ]
  },
  {
   "cell_type": "markdown",
   "metadata": {},
   "source": [
    "### 7.1 KNN"
   ]
  },
  {
   "cell_type": "code",
   "execution_count": 66,
   "metadata": {},
   "outputs": [
    {
     "data": {
      "text/plain": [
       "((447033,), (447033,))"
      ]
     },
     "execution_count": 66,
     "metadata": {},
     "output_type": "execute_result"
    }
   ],
   "source": [
    "# We perform down-sampling to reduce the running time of KNN\n",
    "documents.shape, target.shape"
   ]
  },
  {
   "cell_type": "code",
   "execution_count": 67,
   "metadata": {},
   "outputs": [],
   "source": [
    "# downsample ids, take 10% records\n",
    "np.random.seed = 1\n",
    "down_sample_ratio = 0.05\n",
    "id_subset = np.random.random(documents.shape)<down_sample_ratio"
   ]
  },
  {
   "cell_type": "code",
   "execution_count": 68,
   "metadata": {},
   "outputs": [],
   "source": [
    "# downsample ids, take 10% records\n",
    "documents_subset = documents[id_subset]\n",
    "target_subset = target[id_subset]"
   ]
  },
  {
   "cell_type": "code",
   "execution_count": 69,
   "metadata": {},
   "outputs": [
    {
     "data": {
      "text/plain": [
       "((22272,), (22272,))"
      ]
     },
     "execution_count": 69,
     "metadata": {},
     "output_type": "execute_result"
    }
   ],
   "source": [
    "documents_subset.shape, target_subset.shape"
   ]
  },
  {
   "cell_type": "code",
   "execution_count": 70,
   "metadata": {},
   "outputs": [
    {
     "name": "stdout",
     "output_type": "stream",
     "text": [
      "1000\n"
     ]
    }
   ],
   "source": [
    "# Get NLP representation of the documents for KNN\n",
    "# Create TfidfVectorizer, and name it vectorizer\n",
    "tfidf_vectorizer = TfidfVectorizer(stop_words = stopwords.words('english'), max_features=1000)\n",
    "\n",
    "# Train the model with your training data\n",
    "vectors_documents_subset = tfidf_vectorizer.fit_transform(documents_subset).toarray()\n",
    "\n",
    "# Get the vocab of your tfidf\n",
    "words = tfidf_vectorizer.get_feature_names()\n",
    "# Since I use max_features = 1000, the length shoud be equal to 1000\n",
    "print(len(words))"
   ]
  },
  {
   "cell_type": "code",
   "execution_count": 15,
   "metadata": {},
   "outputs": [
    {
     "data": {
      "text/plain": [
       "KNeighborsClassifier(algorithm='auto', leaf_size=10, metric='minkowski',\n",
       "           metric_params=None, n_jobs=1, n_neighbors=3, p=2,\n",
       "           weights='uniform')"
      ]
     },
     "execution_count": 15,
     "metadata": {},
     "output_type": "execute_result"
    }
   ],
   "source": [
    "from sklearn.neighbors import KNeighborsClassifier\n",
    "parameters = {\n",
    "    #'weights':'distance',\n",
    "    'n_neighbors':3,\n",
    "    'leaf_size':10\n",
    "}\n",
    "base_classifier = KNeighborsClassifier(**parameters)\n",
    "clf = base_classifier\n",
    "\n",
    "# Train model\n",
    "clf.fit(vectors_documents_subset, target_subset)"
   ]
  },
  {
   "cell_type": "code",
   "execution_count": 16,
   "metadata": {},
   "outputs": [
    {
     "data": {
      "text/plain": [
       "0.608487184083169"
      ]
     },
     "execution_count": 16,
     "metadata": {},
     "output_type": "execute_result"
    }
   ],
   "source": [
    "# Get score for dataset\n",
    "clf.score(vectors_documents_subset, target_subset)"
   ]
  },
  {
   "cell_type": "markdown",
   "metadata": {},
   "source": [
    "### 7.2 Naive-Bayes Classifier"
   ]
  },
  {
   "cell_type": "code",
   "execution_count": 24,
   "metadata": {},
   "outputs": [
    {
     "data": {
      "text/plain": [
       "MultinomialNB(alpha=1.0, class_prior=None, fit_prior=True)"
      ]
     },
     "execution_count": 24,
     "metadata": {},
     "output_type": "execute_result"
    }
   ],
   "source": [
    "# Build a Naive-Bayes Classifier\n",
    "\n",
    "from sklearn.naive_bayes import MultinomialNB\n",
    "\n",
    "model_nb = MultinomialNB()\n",
    "\n",
    "model_nb.fit(vectors_train, target_train)"
   ]
  },
  {
   "cell_type": "code",
   "execution_count": 25,
   "metadata": {},
   "outputs": [
    {
     "data": {
      "text/plain": [
       "0.8014965354867934"
      ]
     },
     "execution_count": 25,
     "metadata": {},
     "output_type": "execute_result"
    }
   ],
   "source": [
    "# Get score for training set\n",
    "model_nb.score(vectors_train, target_train)"
   ]
  },
  {
   "cell_type": "code",
   "execution_count": 26,
   "metadata": {},
   "outputs": [
    {
     "data": {
      "text/plain": [
       "0.8036730904739002"
      ]
     },
     "execution_count": 26,
     "metadata": {},
     "output_type": "execute_result"
    }
   ],
   "source": [
    "# Get score for test set\n",
    "model_nb.score(vectors_test, target_test)"
   ]
  },
  {
   "cell_type": "markdown",
   "metadata": {},
   "source": [
    "### 7.3 Logistic Regression Classifier\n",
    "- 7.2.1 What are the key features (words) that make the positive prediction?\n",
    "- 7.2.2 Summary\n",
    "- 7.2.3 What are the key features (words) that make the negative prediction?\n",
    "- 7.2.4 Summary"
   ]
  },
  {
   "cell_type": "code",
   "execution_count": 27,
   "metadata": {},
   "outputs": [
    {
     "data": {
      "text/plain": [
       "LogisticRegression(C=1.0, class_weight=None, dual=False, fit_intercept=True,\n",
       "          intercept_scaling=1, max_iter=100, multi_class='ovr', n_jobs=1,\n",
       "          penalty='l2', random_state=None, solver='liblinear', tol=0.0001,\n",
       "          verbose=0, warm_start=False)"
      ]
     },
     "execution_count": 27,
     "metadata": {},
     "output_type": "execute_result"
    }
   ],
   "source": [
    "# Build a Logistic Regression Classifier\n",
    "\n",
    "from sklearn.linear_model import LogisticRegression\n",
    "\n",
    "model_lrc = LogisticRegression()\n",
    "\n",
    "model_lrc.fit(vectors_train, target_train)"
   ]
  },
  {
   "cell_type": "code",
   "execution_count": 28,
   "metadata": {},
   "outputs": [
    {
     "data": {
      "text/plain": [
       "0.8247526745818257"
      ]
     },
     "execution_count": 28,
     "metadata": {},
     "output_type": "execute_result"
    }
   ],
   "source": [
    "# Get score for training set\n",
    "model_lrc.score(vectors_train, target_train)"
   ]
  },
  {
   "cell_type": "code",
   "execution_count": 29,
   "metadata": {
    "scrolled": true
   },
   "outputs": [
    {
     "data": {
      "text/plain": [
       "0.8254387240372678"
      ]
     },
     "execution_count": 29,
     "metadata": {},
     "output_type": "execute_result"
    }
   ],
   "source": [
    "# Get score for test set\n",
    "model_lrc.score(vectors_test, target_test)"
   ]
  },
  {
   "cell_type": "markdown",
   "metadata": {},
   "source": [
    "### 7.3.1 What are the key features (words) that make the positive prediction?"
   ]
  },
  {
   "cell_type": "code",
   "execution_count": 30,
   "metadata": {},
   "outputs": [
    {
     "data": {
      "text/plain": [
       "['amazing',\n",
       " 'best',\n",
       " 'incredible',\n",
       " 'awesome',\n",
       " 'phenomenal',\n",
       " 'thank',\n",
       " 'perfection',\n",
       " 'delicious',\n",
       " 'fantastic',\n",
       " 'perfect',\n",
       " 'gem',\n",
       " 'excellent',\n",
       " 'favorite',\n",
       " 'beyond',\n",
       " 'omg',\n",
       " 'fabulous',\n",
       " 'great',\n",
       " 'outstanding',\n",
       " 'perfectly',\n",
       " 'highly']"
      ]
     },
     "execution_count": 30,
     "metadata": {},
     "output_type": "execute_result"
    }
   ],
   "source": [
    "# Let's find it out by ranking\n",
    "n = 20\n",
    "get_top_values(model_lrc.coef_[0], n, words)"
   ]
  },
  {
   "cell_type": "markdown",
   "metadata": {},
   "source": [
    "### 7.3.2 Summary\n",
    "- The top 20 key features(words) that make the positive prediction including:'amazing','phenomenal', 'delicious', etc. \n",
    "- It's reasonable to use these positive words to make the positive prediction (stars > 4).\n",
    "- Users pay large attention on environment, taste of food, ect."
   ]
  },
  {
   "cell_type": "markdown",
   "metadata": {},
   "source": [
    "### 7.3.3 What are the key features (words) that make the negative prediction?"
   ]
  },
  {
   "cell_type": "code",
   "execution_count": 31,
   "metadata": {},
   "outputs": [
    {
     "data": {
      "text/plain": [
       "['worst',\n",
       " 'horrible',\n",
       " 'rude',\n",
       " 'terrible',\n",
       " 'disappointing',\n",
       " 'mediocre',\n",
       " 'bland',\n",
       " 'ok',\n",
       " 'awful',\n",
       " 'okay',\n",
       " 'poor',\n",
       " 'slow',\n",
       " 'overpriced',\n",
       " 'charged',\n",
       " 'unfortunately',\n",
       " 'average',\n",
       " 'dry',\n",
       " 'however',\n",
       " 'decent',\n",
       " 'reason']"
      ]
     },
     "execution_count": 31,
     "metadata": {},
     "output_type": "execute_result"
    }
   ],
   "source": [
    "# Let's find it out by ranking\n",
    "n = 20\n",
    "get_bottom_values(model_lrc.coef_[0], n, words)"
   ]
  },
  {
   "cell_type": "markdown",
   "metadata": {},
   "source": [
    "### 7.3.4 Summary\n",
    "- The top 20 key features(words) that make the negative prediction including: 'bland', 'rude', 'unprofessional', 'slow', 'overpriced', 'unfortunately', ect.\n",
    "- Users complaint lots about unsatisfactory service, overpriced food, tasteless food, ect.\n",
    "- Moreover, one interesting point is that neutral words such as 'ok' and 'okay' were appeared in the reviews. \n",
    "    - Probably, some customers left these neutral words but still rated a restaurant with less than five stars. \n",
    "    - Thus, it might be reasonable to use these neutral words to make the negative prediction (stars <= 4)."
   ]
  },
  {
   "cell_type": "markdown",
   "metadata": {},
   "source": [
    "### 7.4 Random Forest Classifier\n",
    "- 7.4.1 What features (words) are important by inspecting the RFC model"
   ]
  },
  {
   "cell_type": "code",
   "execution_count": 32,
   "metadata": {},
   "outputs": [
    {
     "data": {
      "text/plain": [
       "RandomForestClassifier(bootstrap=True, class_weight=None, criterion='gini',\n",
       "            max_depth=25, max_features='auto', max_leaf_nodes=None,\n",
       "            min_impurity_decrease=0.0, min_impurity_split=None,\n",
       "            min_samples_leaf=1, min_samples_split=2,\n",
       "            min_weight_fraction_leaf=0.0, n_estimators=40, n_jobs=1,\n",
       "            oob_score=False, random_state=42, verbose=0, warm_start=False)"
      ]
     },
     "execution_count": 32,
     "metadata": {},
     "output_type": "execute_result"
    }
   ],
   "source": [
    "# Build a Random Forest Classifier\n",
    "\n",
    "from sklearn.ensemble import RandomForestClassifier\n",
    "\n",
    "model_rfc = RandomForestClassifier(max_depth = 25, n_estimators = 40, random_state = 42)\n",
    "\n",
    "model_rfc.fit(vectors_train, target_train)"
   ]
  },
  {
   "cell_type": "code",
   "execution_count": 33,
   "metadata": {},
   "outputs": [
    {
     "data": {
      "text/plain": [
       "0.8449189935854776"
      ]
     },
     "execution_count": 33,
     "metadata": {},
     "output_type": "execute_result"
    }
   ],
   "source": [
    "# Get score for training set\n",
    "model_rfc.score(vectors_train, target_train)"
   ]
  },
  {
   "cell_type": "code",
   "execution_count": 34,
   "metadata": {},
   "outputs": [
    {
     "data": {
      "text/plain": [
       "0.7924323598823358"
      ]
     },
     "execution_count": 34,
     "metadata": {},
     "output_type": "execute_result"
    }
   ],
   "source": [
    "# Get score for test set\n",
    "model_rfc.score(vectors_test, target_test)"
   ]
  },
  {
   "cell_type": "markdown",
   "metadata": {},
   "source": [
    "### 7.4.1 What features (words) are important by inspecting the RFC model？"
   ]
  },
  {
   "cell_type": "markdown",
   "metadata": {},
   "source": [
    "- In Random Forest, the feature importances are all positive. If the feature importance is higher, this feature (or word) plays an important role in predicting the labels (a positive or negative review). \n",
    "    - That's why some negative words found in the top 20 features by sorting the feature importances, such as 'bad', 'worst', and so on. Some top words include positive words, such as amazing, best, and great. Both of positive and negative words are important features (words) as they have higher feature importances."
   ]
  },
  {
   "cell_type": "code",
   "execution_count": 35,
   "metadata": {},
   "outputs": [
    {
     "data": {
      "text/plain": [
       "['amazing',\n",
       " 'great',\n",
       " 'best',\n",
       " 'delicious',\n",
       " 'ok',\n",
       " 'love',\n",
       " 'bad',\n",
       " 'awesome',\n",
       " 'definitely',\n",
       " 'good',\n",
       " 'vegas',\n",
       " 'asked',\n",
       " 'would',\n",
       " 'horrible',\n",
       " 'worst',\n",
       " 'highly',\n",
       " 'excellent',\n",
       " 'minutes',\n",
       " 'rude',\n",
       " 'bland']"
      ]
     },
     "execution_count": 35,
     "metadata": {},
     "output_type": "execute_result"
    }
   ],
   "source": [
    "n = 20\n",
    "get_top_values(model_rfc.feature_importances_, n, words)"
   ]
  },
  {
   "cell_type": "markdown",
   "metadata": {},
   "source": [
    "### 7.5 Model Comparison"
   ]
  },
  {
   "cell_type": "markdown",
   "metadata": {},
   "source": [
    "#### What do I observe from the training scores and the test scores among four models (KNN, NB, LR, RF)?\n",
    "\n",
    "| Model | Accuracy_Train | Accuracy_Test |\n",
    "| ---  | --- | --- |\n",
    "| KNN | 0.6084 | 0.6084 | \n",
    "| Naive-Bayes | 0.8015 | 0.8037 | \n",
    "| Logistic Regression | **0.8248** | **0.8254** | \n",
    "| Random Forest | 0.8449 | 0.7924 |\n",
    "\n",
    "- The performance of KNN is the weakest. The trainng score and the test score of the other three models are comparable, seems no negative impact of overfitting. \n",
    "- In Logistic regression and Naive-Bayes models, the difference between training and testing score is extremely close. - However, in the Random Forest model, the difference is more significant compared to the results from Logistic Regression and Naive-Bayes models. \n",
    "    - It indicated that Random Forest, in fact, can't generalized the results to the unseen data (or testing data) very well, and is a high-variance model for this project instance.\n",
    "    \n",
    "#### We try to perform cross validation to evaluate these models."
   ]
  },
  {
   "cell_type": "markdown",
   "metadata": {},
   "source": [
    "## 8. Use cross validation to evaluate classifiers\n",
    "- 8.1 KNN\n",
    "- 8.2 Naive-Bayes Classifier\n",
    "- 8.3 Logistic Regression Classifier\n",
    "- 8.4 Random Forest Classifier\n",
    "- 8.5 Model Comparison\n",
    "\n",
    "[sklearn cross validation](http://scikit-learn.org/stable/modules/cross_validation.html)"
   ]
  },
  {
   "cell_type": "markdown",
   "metadata": {},
   "source": [
    "### 8.1 KNN"
   ]
  },
  {
   "cell_type": "code",
   "execution_count": 21,
   "metadata": {},
   "outputs": [],
   "source": [
    "from sklearn.neighbors import KNeighborsClassifier\n",
    "parameters = {\n",
    "    #'weights':'distance',\n",
    "    'n_neighbors':3,\n",
    "    'leaf_size':10\n",
    "}\n",
    "base_classifier = KNeighborsClassifier(**parameters)\n",
    "clf = base_classifier\n",
    "\n",
    "cv = cross_validate(clf, vectors_documents_subset, target_subset, scoring=metrics, cv=5, return_train_score = True)"
   ]
  },
  {
   "cell_type": "code",
   "execution_count": 22,
   "metadata": {},
   "outputs": [
    {
     "name": "stdout",
     "output_type": "stream",
     "text": [
      "test_accuracy:\n",
      "[0.47827061 0.47680932 0.49361416 0.49002913 0.48375532]\n",
      "mean_test_accuracy: 0.4845\n",
      "k-fold variance: 4.243e-05\n",
      "\n",
      "train_accuracy:\n",
      "[0.92723504 0.67926959 0.63585952 0.63087436 0.61978379]\n",
      "mean_train_accuracy: 0.6986\n",
      "\n",
      "test_f1_macro:\n",
      "[0.38133581 0.37517242 0.4246659  0.41769292 0.38932522]\n",
      "mean_test_f1_macro: 0.3976\n",
      "k-fold variance: 0.00039445\n",
      "\n",
      "train_f1_macro:\n",
      "[0.92723213 0.658977   0.60556135 0.59906024 0.58458168]\n",
      "mean_train_f1_macro: 0.6751\n",
      "\n",
      "test_roc_auc:\n",
      "[0.50822825 0.51317582 0.52547118 0.51696893 0.53083753]\n",
      "mean_test_roc_auc: 0.5189\n",
      "k-fold variance: 6.721e-05\n",
      "\n",
      "train_roc_auc:\n",
      "[0.93887545 0.87780839 0.87633771 0.8766583  0.8780589 ]\n",
      "mean_train_roc_auc: 0.8895\n",
      "\n"
     ]
    }
   ],
   "source": [
    "for each in list(cv.keys())[2:]:\n",
    "    print(each+':')\n",
    "    print(cv[each])\n",
    "    print('mean_'+each+\":\", str(round(np.mean(cv[each]),4)))\n",
    "    if 'test' in each:\n",
    "        print('k-fold variance: '+str(round(np.var(cv[each]),8)))\n",
    "    print()"
   ]
  },
  {
   "cell_type": "code",
   "execution_count": 23,
   "metadata": {},
   "outputs": [
    {
     "name": "stdout",
     "output_type": "stream",
     "text": [
      "[4.18373299 2.54015899 1.91991091 2.10182095 2.40678191]\n",
      "[1237.64397287  602.8144834   534.63161707  633.94853091  646.29445505]\n"
     ]
    }
   ],
   "source": [
    "print(cv['fit_time'])\n",
    "print(cv['score_time'])"
   ]
  },
  {
   "cell_type": "markdown",
   "metadata": {},
   "source": [
    "### 8.2 Naive-Bayes Classifier"
   ]
  },
  {
   "cell_type": "code",
   "execution_count": 20,
   "metadata": {},
   "outputs": [],
   "source": [
    "from sklearn.metrics import precision_score, accuracy_score, recall_score, f1_score, roc_auc_score\n",
    "from sklearn.model_selection import cross_validate"
   ]
  },
  {
   "cell_type": "code",
   "execution_count": 37,
   "metadata": {},
   "outputs": [],
   "source": [
    "from sklearn.naive_bayes import MultinomialNB\n",
    "\n",
    "metrics = ['accuracy', 'f1_macro', 'roc_auc']\n",
    "\n",
    "model = MultinomialNB(alpha = 1)\n",
    "\n",
    "cv = cross_validate(model, vectors_train, target_train, scoring=metrics, cv=5, return_train_score = True)"
   ]
  },
  {
   "cell_type": "code",
   "execution_count": 38,
   "metadata": {},
   "outputs": [
    {
     "data": {
      "text/plain": [
       "dict_keys(['fit_time', 'score_time', 'test_accuracy', 'train_accuracy', 'test_f1_macro', 'train_f1_macro', 'test_roc_auc', 'train_roc_auc'])"
      ]
     },
     "execution_count": 38,
     "metadata": {},
     "output_type": "execute_result"
    }
   ],
   "source": [
    "# Look at metric names\n",
    "cv.keys()"
   ]
  },
  {
   "cell_type": "code",
   "execution_count": 39,
   "metadata": {},
   "outputs": [
    {
     "name": "stdout",
     "output_type": "stream",
     "text": [
      "test_accuracy:\n",
      "[0.80163856 0.80057601 0.80037749 0.80346732 0.79939601]\n",
      "mean_test_accuracy: 0.8011\n",
      "k-fold variance: 1.92e-06\n",
      "\n",
      "train_accuracy:\n",
      "[0.80158336 0.80163579 0.80195805 0.80109122 0.80210554]\n",
      "mean_train_accuracy: 0.8017\n",
      "\n",
      "test_f1_macro:\n",
      "[0.80094171 0.79993203 0.79984505 0.80286181 0.79881913]\n",
      "mean_test_f1_macro: 0.8005\n",
      "k-fold variance: 1.87e-06\n",
      "\n",
      "train_f1_macro:\n",
      "[0.80098932 0.8010371  0.80135398 0.80048203 0.80150537]\n",
      "mean_train_f1_macro: 0.8011\n",
      "\n",
      "test_roc_auc:\n",
      "[0.88505465 0.88535188 0.88354913 0.88509156 0.88337865]\n",
      "mean_test_roc_auc: 0.8845\n",
      "k-fold variance: 7.1e-07\n",
      "\n",
      "train_roc_auc:\n",
      "[0.88492548 0.88480288 0.88517682 0.88496912 0.88521653]\n",
      "mean_train_roc_auc: 0.885\n",
      "\n"
     ]
    }
   ],
   "source": [
    "for each in list(cv.keys())[2:]:\n",
    "    print(each+':')\n",
    "    print(cv[each])\n",
    "    print('mean_'+each+\":\", str(round(np.mean(cv[each]),4)))\n",
    "    if 'test' in each:\n",
    "        print('k-fold variance: '+ str(round(np.var(cv[each]),8)))\n",
    "    print()"
   ]
  },
  {
   "cell_type": "code",
   "execution_count": 40,
   "metadata": {},
   "outputs": [
    {
     "name": "stdout",
     "output_type": "stream",
     "text": [
      "[2.97057271 3.01095915 3.20781112 2.52510285 2.56008101]\n",
      "[0.36758304 0.38337994 0.41832876 0.33304119 0.33213806]\n"
     ]
    }
   ],
   "source": [
    "print(cv['fit_time'])\n",
    "print(cv['score_time'])"
   ]
  },
  {
   "cell_type": "markdown",
   "metadata": {},
   "source": [
    "### 8.3 Logistic Regression"
   ]
  },
  {
   "cell_type": "code",
   "execution_count": 41,
   "metadata": {},
   "outputs": [],
   "source": [
    "from sklearn.linear_model import LogisticRegression\n",
    "\n",
    "model = LogisticRegression()\n",
    "\n",
    "cv = cross_validate(model, vectors_train, target_train, scoring=metrics, cv=5, return_train_score = True)"
   ]
  },
  {
   "cell_type": "code",
   "execution_count": 42,
   "metadata": {},
   "outputs": [
    {
     "name": "stdout",
     "output_type": "stream",
     "text": [
      "test_accuracy:\n",
      "[0.82368649 0.82304337 0.82213212 0.82399161 0.82261898]\n",
      "mean_test_accuracy: 0.8231\n",
      "k-fold variance: 4.6e-07\n",
      "\n",
      "train_accuracy:\n",
      "[0.82498078 0.82503321 0.82501984 0.82494993 0.82511831]\n",
      "mean_train_accuracy: 0.825\n",
      "\n",
      "test_f1_macro:\n",
      "[0.82323446 0.82260811 0.82175751 0.823554   0.8222385 ]\n",
      "mean_test_f1_macro: 0.8227\n",
      "k-fold variance: 4.2e-07\n",
      "\n",
      "train_f1_macro:\n",
      "[0.82457906 0.82462352 0.82461101 0.82454803 0.82471096]\n",
      "mean_train_f1_macro: 0.8246\n",
      "\n",
      "test_roc_auc:\n",
      "[0.90528892 0.90515289 0.90385321 0.90533214 0.90400817]\n",
      "mean_test_roc_auc: 0.9047\n",
      "k-fold variance: 4.3e-07\n",
      "\n",
      "train_roc_auc:\n",
      "[0.90632437 0.90636596 0.90668756 0.90631844 0.9066635 ]\n",
      "mean_train_roc_auc: 0.9065\n",
      "\n"
     ]
    }
   ],
   "source": [
    "for each in list(cv.keys())[2:]:\n",
    "    print(each+':')\n",
    "    print(cv[each])\n",
    "    print('mean_'+each+\":\", str(round(np.mean(cv[each]),4)))\n",
    "    if 'test' in each:\n",
    "        print('k-fold variance: '+str(round(np.var(cv[each]),8)))\n",
    "    print()"
   ]
  },
  {
   "cell_type": "code",
   "execution_count": 43,
   "metadata": {},
   "outputs": [
    {
     "name": "stdout",
     "output_type": "stream",
     "text": [
      "[6.80197692 6.50804186 6.58802986 7.36248922 6.76749802]\n",
      "[0.24292278 0.29846907 0.26682496 0.32366061 0.39516807]\n"
     ]
    }
   ],
   "source": [
    "print(cv['fit_time'])\n",
    "print(cv['score_time'])"
   ]
  },
  {
   "cell_type": "markdown",
   "metadata": {},
   "source": [
    "### 8.4 Random Forest"
   ]
  },
  {
   "cell_type": "code",
   "execution_count": 44,
   "metadata": {},
   "outputs": [],
   "source": [
    "from sklearn.ensemble import RandomForestClassifier\n",
    "\n",
    "model = RandomForestClassifier(n_estimators=100, max_depth=25, min_samples_leaf=5, random_state=1)\n",
    "\n",
    "cv = cross_validate(model, vectors_train, target_train, scoring=metrics, cv=5, return_train_score = True)"
   ]
  },
  {
   "cell_type": "code",
   "execution_count": 45,
   "metadata": {},
   "outputs": [
    {
     "name": "stdout",
     "output_type": "stream",
     "text": [
      "test_accuracy:\n",
      "[0.79154433 0.79257892 0.79147151 0.79228242 0.79177619]\n",
      "mean_test_accuracy: 0.7919\n",
      "k-fold variance: 1.9e-07\n",
      "\n",
      "train_accuracy:\n",
      "[0.8231108  0.82289759 0.82286675 0.82295064 0.82320291]\n",
      "mean_train_accuracy: 0.823\n",
      "\n",
      "test_f1_macro:\n",
      "[0.79053952 0.79166708 0.79062646 0.79134112 0.79095347]\n",
      "mean_test_f1_macro: 0.791\n",
      "k-fold variance: 1.8e-07\n",
      "\n",
      "train_f1_macro:\n",
      "[0.82246886 0.82229174 0.82225247 0.82231029 0.82259935]\n",
      "mean_train_f1_macro: 0.8224\n",
      "\n",
      "test_roc_auc:\n",
      "[0.87606584 0.87713641 0.8756263  0.8766086  0.87486213]\n",
      "mean_test_roc_auc: 0.8761\n",
      "k-fold variance: 6.2e-07\n",
      "\n",
      "train_roc_auc:\n",
      "[0.90849895 0.90835285 0.90825326 0.90834848 0.9086427 ]\n",
      "mean_train_roc_auc: 0.9084\n",
      "\n"
     ]
    }
   ],
   "source": [
    "for each in list(cv.keys())[2:]:\n",
    "    print(each+':')\n",
    "    print(cv[each])\n",
    "    print('mean_'+each+\":\", str(round(np.mean(cv[each]),4)))\n",
    "    if 'test' in each:\n",
    "        print('k-fold variance: '+str(round(np.var(cv[each]),8)))\n",
    "    print()"
   ]
  },
  {
   "cell_type": "code",
   "execution_count": 46,
   "metadata": {},
   "outputs": [
    {
     "name": "stdout",
     "output_type": "stream",
     "text": [
      "[608.18592906 604.09563208 565.05092311 533.96245885 842.00936174]\n",
      "[ 8.99877095 12.2074101   7.94844484  7.82889509  8.47471023]\n"
     ]
    }
   ],
   "source": [
    "print(cv['fit_time'])\n",
    "print(cv['score_time'])"
   ]
  },
  {
   "cell_type": "markdown",
   "metadata": {},
   "source": [
    "### 8.5 Model Comparison   \n",
    "\n",
    "| Model | mean_test_accuracy | mean_test_f1_macro | train_roc_auc | test_roc_auc|\n",
    "| ---  | --- | --- | --- |\n",
    "| KNN | 0.6986 | 0.6751 | 0.8895 | 0.8895 | \n",
    "| Naive-Bayes | 0.8011 | 0.8005 | 0.8850 | 0.8845 | \n",
    "| Logistic Regression | **0.8231** | **0.8227** | 0.9065 | **0.9047** | \n",
    "| Random Forest | 0.7919 | 0.7910 | **0.9084** | 0.8761 | \n",
    "\n",
    "- The best model was determined by the highest score on AUC since I considered TP & FP as important metrics. \n",
    "    1. Logistic Regression performed the best among four models. The test AUC is 0.9047 and it is a very fast model to fit. The model variance between train and test is also steady by looking at the score difference of each metric between train and test.\n",
    "    \n",
    "    2. Naive Bayes produced a steady prediction result too. Only a small difference, 0.005, on the test AUC score compared with the Logistic Regression.\n",
    "    \n",
    "    3. Random Forest achieved 0.8761 on AUC score, which ranked in third place and it required more time to fit."
   ]
  },
  {
   "cell_type": "markdown",
   "metadata": {},
   "source": [
    "## 9. Use grid search to find the best predictable classifier\n",
    "- 9.1 Grid search - KNN\n",
    "- 9.2 Grid search - Naive Bayes\n",
    "- 9.3 Grid search - Logistic Regression\n",
    "- 9.4 Grid search - Random Forest\n",
    "- 9.5 Model comparison\n",
    "\n",
    "[sklearn grid search tutorial (with cross validation)](http://scikit-learn.org/stable/modules/grid_search.html#grid-search)\n",
    "\n",
    "[sklearn grid search documentation (with cross validation)](http://scikit-learn.org/stable/modules/generated/sklearn.model_selection.GridSearchCV.html#sklearn.model_selection.GridSearchCV)"
   ]
  },
  {
   "cell_type": "code",
   "execution_count": 71,
   "metadata": {},
   "outputs": [],
   "source": [
    "# Import metrics functions from sklearn\n",
    "from sklearn.metrics import precision_score, accuracy_score, recall_score, f1_score, roc_auc_score"
   ]
  },
  {
   "cell_type": "code",
   "execution_count": 72,
   "metadata": {},
   "outputs": [],
   "source": [
    "# define function to perform train, test, and get model performance\n",
    "def train_test_model(clf, X_train, y_train, X_test, y_test):\n",
    "    # Fit a model by providing X and y from training set\n",
    "#    clf.fit(X_train, y_train)\n",
    "# fitted outside already\n",
    "\n",
    "    # Make prediction on the training data\n",
    "    y_train_pred = clf.predict(X_train)\n",
    "    p_train_pred = clf.predict_proba(X_train)[:,1]\n",
    "\n",
    "    # Make predictions on test data\n",
    "    y_test_pred = clf.predict(X_test)\n",
    "    p_test_pred = clf.predict_proba(X_test)[:,1]\n",
    "\n",
    "    # print model results\n",
    "    get_performance_metrics(y_train, p_train_pred, y_test, p_test_pred)\n",
    "    plot_roc_curve(y_train, p_train_pred, y_test, p_test_pred)"
   ]
  },
  {
   "cell_type": "code",
   "execution_count": 73,
   "metadata": {},
   "outputs": [],
   "source": [
    "import pandas as pd\n",
    "# Helper method to print metric scores    \n",
    "def get_performance_metrics(y_train, y_train_pred, y_test, y_test_pred, threshold=0.5):\n",
    "    metric_names = ['AUC','Accuracy','Precision','Recall','f1-score']\n",
    "    metric_values_train = [roc_auc_score(y_train, y_train_pred),\n",
    "                    accuracy_score(y_train, y_train_pred>threshold),\n",
    "                    precision_score(y_train, y_train_pred>threshold),\n",
    "                    recall_score(y_train, y_train_pred>threshold),\n",
    "                    f1_score(y_train, y_train_pred>threshold)\n",
    "                   ]\n",
    "    metric_values_test = [roc_auc_score(y_test, y_test_pred),\n",
    "                    accuracy_score(y_test, y_test_pred>threshold),\n",
    "                    precision_score(y_test, y_test_pred>threshold),\n",
    "                    recall_score(y_test, y_test_pred>threshold),\n",
    "                    f1_score(y_test, y_test_pred>threshold)\n",
    "                   ]\n",
    "    all_metrics = pd.DataFrame({'metrics':metric_names,\n",
    "                                'train':metric_values_train,\n",
    "                                'test':metric_values_test},columns=['metrics','train','test']).set_index('metrics')\n",
    "    print(all_metrics)"
   ]
  },
  {
   "cell_type": "code",
   "execution_count": 74,
   "metadata": {},
   "outputs": [],
   "source": [
    "%matplotlib inline\n",
    "import matplotlib.pyplot as plt\n",
    "from sklearn.metrics import roc_curve, auc\n",
    "\n",
    "def plot_roc_curve(y_train, y_train_pred, y_test, y_test_pred):\n",
    "    roc_auc_train = roc_auc_score(y_train, y_train_pred)\n",
    "    fpr_train, tpr_train, _ = roc_curve(y_train, y_train_pred)\n",
    "\n",
    "    roc_auc_test = roc_auc_score(y_test, y_test_pred)\n",
    "    fpr_test, tpr_test, _ = roc_curve(y_test, y_test_pred)\n",
    "    plt.figure()\n",
    "    lw = 2\n",
    "    plt.plot(fpr_train, tpr_train, color='green',\n",
    "             lw=lw, label='ROC Train (AUC = %0.4f)' % roc_auc_train)\n",
    "    plt.plot(fpr_test, tpr_test, color='darkorange',\n",
    "             lw=lw, label='ROC Test (AUC = %0.4f)' % roc_auc_test)\n",
    "    plt.plot([0, 1], [0, 1], color='navy', lw=lw, linestyle='--')\n",
    "    plt.xlim([0.0, 1.0])\n",
    "    plt.ylim([0.0, 1.05])\n",
    "    plt.xlabel('False Positive Rate')\n",
    "    plt.ylabel('True Positive Rate')\n",
    "    plt.title('Receiver operating characteristic example')\n",
    "    plt.legend(loc=\"lower right\")\n",
    "    plt.show()"
   ]
  },
  {
   "cell_type": "markdown",
   "metadata": {},
   "source": [
    "### 9.1 Grid search - KNN"
   ]
  },
  {
   "cell_type": "code",
   "execution_count": 75,
   "metadata": {},
   "outputs": [],
   "source": [
    "from sklearn.neighbors import KNeighborsClassifier\n",
    "\n",
    "model = KNeighborsClassifier()\n",
    "\n",
    "param_grid = {\n",
    "              'n_neighbors': [i for i in range(3,30,3)],\n",
    "              'leaf_size': [10, 20, 30]\n",
    "             }\n",
    "\n",
    "acc_scorer = make_scorer(roc_auc_score)\n",
    "\n",
    "grid_job = grid_search.GridSearchCV(estimator = model, param_grid = param_grid, cv = 5, scoring = acc_scorer)\n",
    "\n",
    "grid_job = grid_job.fit(vectors_documents_subset, target_subset)"
   ]
  },
  {
   "cell_type": "code",
   "execution_count": 76,
   "metadata": {},
   "outputs": [],
   "source": [
    "# see the results on training and testing using the tuned parameters\n",
    "best_model_KNN = grid_job.best_estimator_"
   ]
  },
  {
   "cell_type": "code",
   "execution_count": 77,
   "metadata": {},
   "outputs": [
    {
     "name": "stdout",
     "output_type": "stream",
     "text": [
      "              train      test\n",
      "metrics                      \n",
      "AUC        0.864921  0.864921\n",
      "Accuracy   0.758935  0.758935\n",
      "Precision  0.847328  0.847328\n",
      "Recall     0.599375  0.599375\n",
      "f1-score   0.702103  0.702103\n"
     ]
    },
    {
     "data": {
      "image/png": "[encoded data removed]",
      "text/plain": [
       "<Figure size 432x288 with 1 Axes>"
      ]
     },
     "metadata": {},
     "output_type": "display_data"
    }
   ],
   "source": [
    "train_test_model(best_model_KNN, \n",
    "                 vectors_documents_subset, target_subset, \n",
    "                 vectors_documents_subset, target_subset)"
   ]
  },
  {
   "cell_type": "markdown",
   "metadata": {},
   "source": [
    "### 9.2 Grid search - Naive Bayes"
   ]
  },
  {
   "cell_type": "code",
   "execution_count": 24,
   "metadata": {},
   "outputs": [
    {
     "name": "stderr",
     "output_type": "stream",
     "text": [
      "/anaconda3/lib/python3.6/site-packages/sklearn/cross_validation.py:41: DeprecationWarning: This module was deprecated in version 0.18 in favor of the model_selection module into which all the refactored classes and functions are moved. Also note that the interface of the new CV iterators are different from that of this module. This module will be removed in 0.20.\n",
      "  \"This module will be removed in 0.20.\", DeprecationWarning)\n",
      "/anaconda3/lib/python3.6/site-packages/sklearn/grid_search.py:42: DeprecationWarning: This module was deprecated in version 0.18 in favor of the model_selection module into which all the refactored classes and functions are moved. This module will be removed in 0.20.\n",
      "  DeprecationWarning)\n"
     ]
    }
   ],
   "source": [
    "# To be implemented\n",
    "from sklearn import grid_search\n",
    "from sklearn.metrics import make_scorer, roc_auc_score, accuracy_score\n",
    "from sklearn.metrics import precision_score, accuracy_score, recall_score, f1_score, roc_auc_score"
   ]
  },
  {
   "cell_type": "code",
   "execution_count": 52,
   "metadata": {},
   "outputs": [],
   "source": [
    "from sklearn.naive_bayes import MultinomialNB\n",
    "\n",
    "model = MultinomialNB()\n",
    "\n",
    "param_grid = {\"alpha\": [0.01, 0.1, 1, 10, 100],\n",
    "              \"fit_prior\": [True, False]\n",
    "             }\n",
    "\n",
    "acc_scorer = make_scorer(roc_auc_score)\n",
    "\n",
    "grid_job = grid_search.GridSearchCV(estimator = model, param_grid=param_grid, cv = 5, scoring = acc_scorer)\n",
    "\n",
    "grid_job = grid_job.fit(vectors_train, target_train)"
   ]
  },
  {
   "cell_type": "code",
   "execution_count": 53,
   "metadata": {},
   "outputs": [],
   "source": [
    "# see the results on training and testing using the tuned parameters\n",
    "best_model_NB = grid_job.best_estimator_"
   ]
  },
  {
   "cell_type": "code",
   "execution_count": 54,
   "metadata": {},
   "outputs": [
    {
     "name": "stdout",
     "output_type": "stream",
     "text": [
      "              train      test\n",
      "metrics                      \n",
      "AUC        0.885737  0.887648\n",
      "Accuracy   0.803462  0.804971\n",
      "Precision  0.762868  0.762772\n",
      "Recall     0.846302  0.847530\n",
      "f1-score   0.802422  0.802921\n"
     ]
    },
    {
     "data": {
      "image/png": "[encoded data removed]",
      "text/plain": [
       "<Figure size 432x288 with 1 Axes>"
      ]
     },
     "metadata": {},
     "output_type": "display_data"
    }
   ],
   "source": [
    "train_test_model(best_model_NB, \n",
    "                 vectors_train, target_train, \n",
    "                 vectors_test, target_test)"
   ]
  },
  {
   "cell_type": "markdown",
   "metadata": {},
   "source": [
    "### 9.3 Grid search - Logistic Regression"
   ]
  },
  {
   "cell_type": "code",
   "execution_count": 55,
   "metadata": {},
   "outputs": [],
   "source": [
    "from sklearn.linear_model import LogisticRegression\n",
    "\n",
    "model = LogisticRegression()\n",
    "\n",
    "param_grid = {\"penalty\": ['l1','l2'],\n",
    "              \"tol\": [1e-3, 1e-4, 1e-5],\n",
    "              \"C\": [0.1, 1, 10]\n",
    "             }\n",
    "\n",
    "acc_scorer = make_scorer(roc_auc_score)\n",
    "\n",
    "grid_job = grid_search.GridSearchCV(estimator = model, param_grid=param_grid, cv = 5, scoring = acc_scorer)\n",
    "\n",
    "grid_job = grid_job.fit(vectors_train, target_train)"
   ]
  },
  {
   "cell_type": "code",
   "execution_count": 56,
   "metadata": {},
   "outputs": [],
   "source": [
    "# see the results on training\n",
    "best_model_LR = grid_job.best_estimator_"
   ]
  },
  {
   "cell_type": "code",
   "execution_count": 57,
   "metadata": {},
   "outputs": [
    {
     "name": "stdout",
     "output_type": "stream",
     "text": [
      "              train      test\n",
      "metrics                      \n",
      "AUC        0.906270  0.906555\n",
      "Accuracy   0.824686  0.825606\n",
      "Precision  0.807842  0.807611\n",
      "Recall     0.824316  0.824338\n",
      "f1-score   0.815996  0.815889\n"
     ]
    },
    {
     "data": {
      "image/png": "[encoded data removed]",
      "text/plain": [
       "<Figure size 432x288 with 1 Axes>"
      ]
     },
     "metadata": {},
     "output_type": "display_data"
    }
   ],
   "source": [
    "train_test_model(best_model_LR, \n",
    "                 vectors_train, target_train, \n",
    "                 vectors_test, target_test)"
   ]
  },
  {
   "cell_type": "markdown",
   "metadata": {},
   "source": [
    "### 9.4 Randomized grid search - Random Forest\n",
    "- Randomly choose 5 combination of parameters to perform grid search due to time limit\n",
    "- (Reference: How to perform random grid search in sklearn)\n",
    "    1. https://www.youtube.com/watch?v=Gol_qOgRqfA&frags=pl%2Cwn&ab_channel=DataSchool\n",
    "    2. http://scikit-learn.org/stable/auto_examples/model_selection/plot_randomized_search.html"
   ]
  },
  {
   "cell_type": "code",
   "execution_count": 58,
   "metadata": {},
   "outputs": [
    {
     "data": {
      "text/plain": [
       "RandomizedSearchCV(cv=5, error_score='raise',\n",
       "          estimator=RandomForestClassifier(bootstrap=True, class_weight=None, criterion='gini',\n",
       "            max_depth=None, max_features='auto', max_leaf_nodes=None,\n",
       "            min_impurity_decrease=0.0, min_impurity_split=None,\n",
       "            min_samples_leaf=1, min_samples_split=2,\n",
       "            min_weight_fraction_leaf=0.0, n_estimators=10, n_jobs=1,\n",
       "            oob_score=False, random_state=None, verbose=0,\n",
       "            warm_start=False),\n",
       "          fit_params=None, iid=True, n_iter=5, n_jobs=1,\n",
       "          param_distributions={'n_estimators': [50, 100, 200], 'max_depth': <scipy.stats._distn_infrastructure.rv_frozen object at 0x1a26554860>, 'min_samples_leaf': <scipy.stats._distn_infrastructure.rv_frozen object at 0x1a265540b8>, 'random_state': [1]},\n",
       "          pre_dispatch='2*n_jobs', random_state=None, refit=True,\n",
       "          return_train_score='warn', scoring='roc_auc', verbose=0)"
      ]
     },
     "execution_count": 58,
     "metadata": {},
     "output_type": "execute_result"
    }
   ],
   "source": [
    "from scipy.stats import randint as sp_randint\n",
    "from sklearn.model_selection import RandomizedSearchCV\n",
    "from sklearn.ensemble import RandomForestClassifier\n",
    "\n",
    "model = RandomForestClassifier()\n",
    "\n",
    "param_dist = {\"n_estimators\": [50,100,200],\n",
    "              \"max_depth\": sp_randint(1, 25),\n",
    "              \"min_samples_leaf\": sp_randint(1, 100),\n",
    "              \"random_state\": [1]\n",
    "             }\n",
    "\n",
    "random_grid = RandomizedSearchCV(estimator = model, param_distributions=param_dist, cv = 5, scoring = 'roc_auc',\n",
    "                              n_iter=5,\n",
    "                             )\n",
    "\n",
    "random_grid.fit(vectors_train, target_train)"
   ]
  },
  {
   "cell_type": "code",
   "execution_count": 59,
   "metadata": {},
   "outputs": [
    {
     "name": "stdout",
     "output_type": "stream",
     "text": [
      "0.8722409129573696\n",
      "{'max_depth': 23, 'min_samples_leaf': 31, 'n_estimators': 200, 'random_state': 1}\n"
     ]
    }
   ],
   "source": [
    "print(random_grid.best_score_)\n",
    "print(random_grid.best_params_)"
   ]
  },
  {
   "cell_type": "code",
   "execution_count": 60,
   "metadata": {},
   "outputs": [],
   "source": [
    "best_model_RF = random_grid.best_estimator_"
   ]
  },
  {
   "cell_type": "code",
   "execution_count": 61,
   "metadata": {},
   "outputs": [
    {
     "name": "stdout",
     "output_type": "stream",
     "text": [
      "              train      test\n",
      "metrics                      \n",
      "AUC        0.883307  0.874510\n",
      "Accuracy   0.797792  0.791314\n",
      "Precision  0.792858  0.784324\n",
      "Recall     0.773221  0.765235\n",
      "f1-score   0.782917  0.774662\n"
     ]
    },
    {
     "data": {
      "image/png": "[encoded data removed]",
      "text/plain": [
       "<Figure size 432x288 with 1 Axes>"
      ]
     },
     "metadata": {},
     "output_type": "display_data"
    }
   ],
   "source": [
    "train_test_model(best_model_RF, \n",
    "                 vectors_train, target_train, \n",
    "                 vectors_test, target_test)"
   ]
  },
  {
   "cell_type": "markdown",
   "metadata": {},
   "source": [
    "### 9.5 Model comparison \n",
    "\n",
    "| Model | basic_train_roc_auc | basic_test_roc_auc | grid_search_train_roc_auc | grid_search_test_roc_auc|\n",
    "| ---  | --- | --- | --- |\n",
    "| KNN | 0.8895 | **0.8895** | 0.8649 | 0.8649 | \n",
    "| Naive-Bayes | 0.8850 | 0.8845 | 0.8857 | **0.8876** | \n",
    "| Logistic Regression | 0.9065 | 0.9047 | 0.9063 | **0.9066** | \n",
    "| Random Forest | 0.9084 | **0.8761** | 0.8833 | 0.8745 | \n",
    "\n",
    "\n",
    "- The performance of models with grid_search are very close to those of basic models, which indicate our baisc models have already performed greatly in this dataset and hard for the models with grid_search to perform better.\n",
    "    \n",
    "#### Next, we will try standardization and PCA to see if we can improve the model performace."
   ]
  },
  {
   "cell_type": "markdown",
   "metadata": {},
   "source": [
    "## 10. Use PCA to reduce dimensionality\n",
    "- 10.1 Stardardize features\n",
    "- 10.2 Use PCA to transform data (train and test) and get princial components\n",
    "- 10.3 See how much (and how much percentage of) variance the principal components explain\n",
    "- 10.4 Plot proportion of variance explained with top K principal components"
   ]
  },
  {
   "cell_type": "markdown",
   "metadata": {},
   "source": [
    "### 10.1 Stardardize features"
   ]
  },
  {
   "cell_type": "code",
   "execution_count": 78,
   "metadata": {},
   "outputs": [],
   "source": [
    "from sklearn.preprocessing import StandardScaler\n",
    "\n",
    "scaler = StandardScaler()\n",
    "\n",
    "X_train_scaled = scaler.fit_transform(vectors_train)\n",
    "X_test_scaled = scaler.transform(vectors_test)"
   ]
  },
  {
   "cell_type": "code",
   "execution_count": 79,
   "metadata": {},
   "outputs": [
    {
     "name": "stdout",
     "output_type": "stream",
     "text": [
      "(357626, 1000)\n",
      "(89407, 1000)\n"
     ]
    }
   ],
   "source": [
    "print(X_train_scaled.shape)\n",
    "print(X_test_scaled.shape)"
   ]
  },
  {
   "cell_type": "code",
   "execution_count": 80,
   "metadata": {},
   "outputs": [],
   "source": [
    "# Stardardize features for KNN\n",
    "vectors_documents_subset_scaled = scaler.fit_transform(vectors_documents_subset)"
   ]
  },
  {
   "cell_type": "markdown",
   "metadata": {},
   "source": [
    "### 10.2 Use PCA to transform data (train and test) and get princial components"
   ]
  },
  {
   "cell_type": "code",
   "execution_count": 81,
   "metadata": {},
   "outputs": [],
   "source": [
    "from sklearn.decomposition import PCA\n",
    "\n",
    "# Let's pick a n_components\n",
    "n_components = 50\n",
    "\n",
    "pca = PCA(n_components = n_components)\n",
    "\n",
    "X_train_pca = pca.fit_transform(X_train_scaled)\n",
    "\n",
    "X_test_pca = pca.transform(X_test_scaled)"
   ]
  },
  {
   "cell_type": "code",
   "execution_count": 82,
   "metadata": {},
   "outputs": [
    {
     "data": {
      "text/plain": [
       "((357626, 50), (89407, 50), (50, 1000))"
      ]
     },
     "execution_count": 82,
     "metadata": {},
     "output_type": "execute_result"
    }
   ],
   "source": [
    "X_train_pca.shape, X_test_pca.shape, pca.components_.shape"
   ]
  },
  {
   "cell_type": "code",
   "execution_count": 83,
   "metadata": {},
   "outputs": [],
   "source": [
    "# Use PCA to transform data for KNN\n",
    "\n",
    "n_components = 50\n",
    "\n",
    "pca = PCA(n_components = n_components)\n",
    "\n",
    "vectors_documents_subset_scaled_pca = pca.fit_transform(vectors_documents_subset_scaled)"
   ]
  },
  {
   "cell_type": "code",
   "execution_count": 84,
   "metadata": {},
   "outputs": [
    {
     "data": {
      "text/plain": [
       "(22272, 1000)"
      ]
     },
     "execution_count": 84,
     "metadata": {},
     "output_type": "execute_result"
    }
   ],
   "source": [
    "vectors_documents_subset_scaled.shape"
   ]
  },
  {
   "cell_type": "markdown",
   "metadata": {},
   "source": [
    "### 10.3 See how much (and how much percentage of) variance the principal components explain"
   ]
  },
  {
   "cell_type": "code",
   "execution_count": 66,
   "metadata": {},
   "outputs": [
    {
     "data": {
      "text/plain": [
       "50"
      ]
     },
     "execution_count": 66,
     "metadata": {},
     "output_type": "execute_result"
    }
   ],
   "source": [
    "# 50 pca components\n",
    "len(pca.explained_variance_)"
   ]
  },
  {
   "cell_type": "code",
   "execution_count": 67,
   "metadata": {},
   "outputs": [
    {
     "name": "stdout",
     "output_type": "stream",
     "text": [
      "[5.93858776 4.51209311 3.33715681 2.97345434 2.74485314 2.72386455\n",
      " 2.59023774 2.45833772 2.33528353 2.32885235 2.27738198 2.14640238\n",
      " 2.13475375 2.07113215 2.04080457 1.99860149 1.95922997 1.92130947\n",
      " 1.89310583 1.87459006]\n"
     ]
    }
   ],
   "source": [
    "# Look at the variance of top 20 pca components\n",
    "print (pca.explained_variance_[:20])"
   ]
  },
  {
   "cell_type": "code",
   "execution_count": 68,
   "metadata": {},
   "outputs": [
    {
     "name": "stdout",
     "output_type": "stream",
     "text": [
      "[0.00593857 0.00451208 0.00333715 0.00297345 0.00274485 0.00272386\n",
      " 0.00259023 0.00245833 0.00233528 0.00232885 0.00227738 0.0021464\n",
      " 0.00213475 0.00207113 0.0020408  0.0019986  0.00195922 0.0019213\n",
      " 0.0018931  0.00187458]\n"
     ]
    }
   ],
   "source": [
    "# Look at the ratio of variance of top 20 pca components\n",
    "print (pca.explained_variance_ratio_[:20])"
   ]
  },
  {
   "cell_type": "code",
   "execution_count": 83,
   "metadata": {},
   "outputs": [
    {
     "name": "stdout",
     "output_type": "stream",
     "text": [
      "In total, 50 pca components explained only 0.09870964753559902 of total variance\n"
     ]
    }
   ],
   "source": [
    "print('In total, 50 pca components explained only',sum(pca.explained_variance_ratio_),'of total variance')"
   ]
  },
  {
   "cell_type": "markdown",
   "metadata": {},
   "source": [
    "### 10.4 Plot proportion of variance explained with top K principal components\n",
    "\n",
    "For clear display, we start with plotting <=20 principal components"
   ]
  },
  {
   "cell_type": "code",
   "execution_count": 70,
   "metadata": {},
   "outputs": [
    {
     "data": {
      "text/plain": [
       "Text(0,0.5,'plot proportion of variance explained')"
      ]
     },
     "execution_count": 70,
     "metadata": {},
     "output_type": "execute_result"
    },
    {
     "data": {
      "image/png": "[encoded data removed]",
      "text/plain": [
       "<Figure size 720x576 with 1 Axes>"
      ]
     },
     "metadata": {},
     "output_type": "display_data"
    }
   ],
   "source": [
    "# Plot proportion of variance explained with top 20 principal components\n",
    "\n",
    "n_col_to_display = 20\n",
    "\n",
    "pca_range = np.arange(n_col_to_display) + 1\n",
    "pca_name = ['PCA_%s' % i for i in pca_range]\n",
    "\n",
    "plt.figure(figsize = (10, 8))\n",
    "plt.bar(pca_range, pca.explained_variance_ratio_[:n_col_to_display])\n",
    "xticks = plt.xticks(pca_range, pca_name, rotation = 90)\n",
    "plt.ylabel('plot proportion of variance explained')"
   ]
  },
  {
   "cell_type": "markdown",
   "metadata": {},
   "source": [
    "## 11 Classifying positive/negative review with PCA preprocessing\n",
    "- 11.1 KNN\n",
    "    - 11.1.1 Use standardized tf-idf vectors as features\n",
    "    - 11.1.2 Use (Stardardized + PCA) tf-idf vectors as features\n",
    "- 11.2 Logistic Regression Classifier\n",
    "    - 11.2.1 Use standardized tf-idf vectors as features\n",
    "    - 11.2.2 Use (Stardardized + PCA) tf-idf vectors as features\n",
    "    - 11.2.3 Visualization: PCA components \n",
    "- 11.3 Random Forest Classifier\n",
    "    - 11.3.1 Use standardized tf-idf vectors as features\n",
    "    - 11.3.2 Use (Stardardized + PCA) tf-idf vectors as features\n",
    "    - 11.3.3 Visualization: PCA components\n",
    "- 11.4 Model comparison"
   ]
  },
  {
   "cell_type": "markdown",
   "metadata": {},
   "source": [
    "### 11.1 KNN\n",
    "### 11.1.1 Use standardized tf-idf vectors as features"
   ]
  },
  {
   "cell_type": "code",
   "execution_count": 85,
   "metadata": {},
   "outputs": [],
   "source": [
    "model = KNeighborsClassifier()\n",
    "\n",
    "param_grid = {\n",
    "              'n_neighbors': [i for i in range(3,30,3)],\n",
    "              'leaf_size': [10, 20, 30]\n",
    "             }\n",
    "\n",
    "acc_scorer = make_scorer(roc_auc_score)\n",
    "\n",
    "grid_job = grid_search.GridSearchCV(estimator = model, param_grid = param_grid, cv = 5, scoring = acc_scorer)\n",
    "\n",
    "grid_job = grid_job.fit(vectors_documents_subset_scaled, target_subset)\n",
    "\n",
    "# see the results on training\n",
    "best_model_KNN = grid_job.best_estimator_"
   ]
  },
  {
   "cell_type": "code",
   "execution_count": 37,
   "metadata": {},
   "outputs": [
    {
     "data": {
      "text/plain": [
       "KNeighborsClassifier(algorithm='auto', leaf_size=10, metric='minkowski',\n",
       "           metric_params=None, n_jobs=1, n_neighbors=6, p=2,\n",
       "           weights='uniform')"
      ]
     },
     "execution_count": 37,
     "metadata": {},
     "output_type": "execute_result"
    }
   ],
   "source": [
    "# Get score for training set\n",
    "best_model_KNN.fit(vectors_documents_subset_scaled, target_subset)"
   ]
  },
  {
   "cell_type": "code",
   "execution_count": 86,
   "metadata": {},
   "outputs": [
    {
     "name": "stdout",
     "output_type": "stream",
     "text": [
      "              train      test\n",
      "metrics                      \n",
      "AUC        0.798243  0.798243\n",
      "Accuracy   0.708019  0.708019\n",
      "Precision  0.656426  0.656426\n",
      "Recall     0.805608  0.805608\n",
      "f1-score   0.723406  0.723406\n"
     ]
    },
    {
     "data": {
      "image/png": "[encoded data removed]",
      "text/plain": [
       "<Figure size 432x288 with 1 Axes>"
      ]
     },
     "metadata": {},
     "output_type": "display_data"
    }
   ],
   "source": [
    "train_test_model(best_model_KNN, \n",
    "                 vectors_documents_subset_scaled, target_subset, \n",
    "                 vectors_documents_subset_scaled, target_subset)"
   ]
  },
  {
   "cell_type": "markdown",
   "metadata": {},
   "source": [
    "### 11.1.2 Use (Stardardized + PCA) tf-idf vectors as features"
   ]
  },
  {
   "cell_type": "code",
   "execution_count": 39,
   "metadata": {},
   "outputs": [],
   "source": [
    "model = KNeighborsClassifier()\n",
    "\n",
    "param_grid = {\n",
    "              'n_neighbors': [i for i in range(3,30,3)],\n",
    "              'leaf_size': [10, 20, 30]\n",
    "             }\n",
    "\n",
    "acc_scorer = make_scorer(roc_auc_score)\n",
    "\n",
    "grid_job = grid_search.GridSearchCV(estimator = model, param_grid = param_grid, cv = 5, scoring = acc_scorer)\n",
    "\n",
    "grid_job = grid_job.fit(vectors_documents_subset_scaled_pca, target_subset)\n",
    "\n",
    "# see the results on training\n",
    "best_model_KNN = grid_job.best_estimator_"
   ]
  },
  {
   "cell_type": "code",
   "execution_count": 40,
   "metadata": {},
   "outputs": [
    {
     "data": {
      "text/plain": [
       "KNeighborsClassifier(algorithm='auto', leaf_size=10, metric='minkowski',\n",
       "           metric_params=None, n_jobs=1, n_neighbors=27, p=2,\n",
       "           weights='uniform')"
      ]
     },
     "execution_count": 40,
     "metadata": {},
     "output_type": "execute_result"
    }
   ],
   "source": [
    "# Get score for training set\n",
    "best_model_KNN.fit(vectors_documents_subset_scaled_pca, target_subset)"
   ]
  },
  {
   "cell_type": "code",
   "execution_count": 48,
   "metadata": {},
   "outputs": [
    {
     "name": "stdout",
     "output_type": "stream",
     "text": [
      "              train      test\n",
      "metrics                      \n",
      "AUC        0.876066  0.876066\n",
      "Accuracy   0.792122  0.792122\n",
      "Precision  0.751067  0.751067\n",
      "Recall     0.836232  0.836232\n",
      "f1-score   0.791365  0.791365\n"
     ]
    },
    {
     "data": {
      "image/png": "[encoded data removed]",
      "text/plain": [
       "<Figure size 432x288 with 1 Axes>"
      ]
     },
     "metadata": {},
     "output_type": "display_data"
    }
   ],
   "source": [
    "train_test_model(best_model_KNN, \n",
    "                 vectors_documents_subset_scaled_pca, target_subset, \n",
    "                 vectors_documents_subset_scaled_pca, target_subset)"
   ]
  },
  {
   "cell_type": "markdown",
   "metadata": {},
   "source": [
    "### 11.2 Logistic Regression Classifier\n",
    "### 11.2.1 Use standardized tf-idf vectors as features"
   ]
  },
  {
   "cell_type": "code",
   "execution_count": 74,
   "metadata": {},
   "outputs": [
    {
     "name": "stdout",
     "output_type": "stream",
     "text": [
      "              train      test\n",
      "metrics                      \n",
      "AUC        0.906261  0.906506\n",
      "Accuracy   0.824660  0.825483\n",
      "Precision  0.807600  0.807389\n",
      "Recall     0.824648  0.824362\n",
      "f1-score   0.816035  0.815787\n"
     ]
    },
    {
     "data": {
      "image/png": "[encoded data removed]",
      "text/plain": [
       "<Figure size 432x288 with 1 Axes>"
      ]
     },
     "metadata": {},
     "output_type": "display_data"
    }
   ],
   "source": [
    "model = LogisticRegression()\n",
    "\n",
    "param_grid = {\"penalty\": ['l1','l2'],\n",
    "              \"tol\": [1e-3, 1e-4, 1e-5],\n",
    "              \"C\": [0.1, 1, 10]\n",
    "             }\n",
    "\n",
    "acc_scorer = make_scorer(roc_auc_score)\n",
    "\n",
    "grid_job = grid_search.GridSearchCV(estimator = model, param_grid=param_grid, cv = 5, scoring = acc_scorer)\n",
    "\n",
    "grid_job = grid_job.fit(X_train_scaled, target_train)\n",
    "\n",
    "# see the results on training\n",
    "best_model_LR = grid_job.best_estimator_\n",
    "\n",
    "train_test_model(best_model_LR, \n",
    "                 X_train_scaled, target_train, \n",
    "                 X_test_scaled, target_test)"
   ]
  },
  {
   "cell_type": "markdown",
   "metadata": {},
   "source": [
    "### 11.2.2 Use (Stardardized + PCA) tf-idf vectors as features"
   ]
  },
  {
   "cell_type": "code",
   "execution_count": 75,
   "metadata": {},
   "outputs": [
    {
     "name": "stdout",
     "output_type": "stream",
     "text": [
      "              train      test\n",
      "metrics                      \n",
      "AUC        0.888536  0.890569\n",
      "Accuracy   0.806572  0.809769\n",
      "Precision  0.791228  0.792731\n",
      "Recall     0.801244  0.804534\n",
      "f1-score   0.796204  0.798588\n"
     ]
    },
    {
     "data": {
      "image/png": "[encoded data removed]",
      "text/plain": [
       "<Figure size 432x288 with 1 Axes>"
      ]
     },
     "metadata": {},
     "output_type": "display_data"
    }
   ],
   "source": [
    "model = LogisticRegression()\n",
    "\n",
    "param_grid = {\"penalty\": ['l1','l2'],\n",
    "              \"tol\": [1e-3, 1e-4, 1e-5],\n",
    "              \"C\": [0.1, 1, 10]\n",
    "             }\n",
    "\n",
    "acc_scorer = make_scorer(roc_auc_score)\n",
    "\n",
    "grid_job = grid_search.GridSearchCV(estimator = model, param_grid=param_grid, cv = 5, scoring = acc_scorer)\n",
    "\n",
    "grid_job = grid_job.fit(X_train_pca, target_train)\n",
    "\n",
    "# see the results on training\n",
    "best_model_LR = grid_job.best_estimator_\n",
    "\n",
    "train_test_model(best_model_LR, \n",
    "                 X_train_pca, target_train, \n",
    "                 X_test_pca, target_test)"
   ]
  },
  {
   "cell_type": "markdown",
   "metadata": {},
   "source": [
    "### 11.2.3 Visualization: PCA components "
   ]
  },
  {
   "cell_type": "code",
   "execution_count": 76,
   "metadata": {},
   "outputs": [
    {
     "data": {
      "text/html": [
       "<div>\n",
       "<style scoped>\n",
       "    .dataframe tbody tr th:only-of-type {\n",
       "        vertical-align: middle;\n",
       "    }\n",
       "\n",
       "    .dataframe tbody tr th {\n",
       "        vertical-align: top;\n",
       "    }\n",
       "\n",
       "    .dataframe thead th {\n",
       "        text-align: right;\n",
       "    }\n",
       "</style>\n",
       "<table border=\"1\" class=\"dataframe\">\n",
       "  <thead>\n",
       "    <tr style=\"text-align: right;\">\n",
       "      <th></th>\n",
       "      <th>PCAs</th>\n",
       "      <th>coef</th>\n",
       "    </tr>\n",
       "  </thead>\n",
       "  <tbody>\n",
       "    <tr>\n",
       "      <th>32</th>\n",
       "      <td>PCA_33</td>\n",
       "      <td>6.407053</td>\n",
       "    </tr>\n",
       "    <tr>\n",
       "      <th>16</th>\n",
       "      <td>PCA_17</td>\n",
       "      <td>2.260431</td>\n",
       "    </tr>\n",
       "    <tr>\n",
       "      <th>31</th>\n",
       "      <td>PCA_32</td>\n",
       "      <td>1.619665</td>\n",
       "    </tr>\n",
       "    <tr>\n",
       "      <th>41</th>\n",
       "      <td>PCA_42</td>\n",
       "      <td>1.523816</td>\n",
       "    </tr>\n",
       "    <tr>\n",
       "      <th>22</th>\n",
       "      <td>PCA_23</td>\n",
       "      <td>1.310667</td>\n",
       "    </tr>\n",
       "  </tbody>\n",
       "</table>\n",
       "</div>"
      ],
      "text/plain": [
       "      PCAs      coef\n",
       "32  PCA_33  6.407053\n",
       "16  PCA_17  2.260431\n",
       "31  PCA_32  1.619665\n",
       "41  PCA_42  1.523816\n",
       "22  PCA_23  1.310667"
      ]
     },
     "execution_count": 76,
     "metadata": {},
     "output_type": "execute_result"
    }
   ],
   "source": [
    "pca_range = np.arange(pca.n_components_) + 1\n",
    "pca_names = ['PCA_%s' % i for i in pca_range]\n",
    "df_coefs = pd.DataFrame(list(zip(pca_names, model_lrc.coef_.flatten()))).sort_values(by = [1], ascending = False)\n",
    "df_coefs.columns = [\"PCAs\", \"coef\"]\n",
    "df_coefs[:5]"
   ]
  },
  {
   "cell_type": "code",
   "execution_count": 77,
   "metadata": {},
   "outputs": [
    {
     "data": {
      "image/png": "[encoded data removed]",
      "text/plain": [
       "<Figure size 720x720 with 1 Axes>"
      ]
     },
     "metadata": {},
     "output_type": "display_data"
    }
   ],
   "source": [
    "ax = df_coefs.plot.barh(figsize = (10, 10))\n",
    "t= np.arange(pca.n_components_)\n",
    "ax.set_yticks(t)\n",
    "ax.set_yticklabels(df_coefs['PCAs'])\n",
    "plt.show()"
   ]
  },
  {
   "cell_type": "markdown",
   "metadata": {},
   "source": [
    "### 11.3 Random Forest Classifier\n",
    "### 11.3.1 Use standardized tf-idf vectors as features"
   ]
  },
  {
   "cell_type": "code",
   "execution_count": 78,
   "metadata": {},
   "outputs": [
    {
     "name": "stdout",
     "output_type": "stream",
     "text": [
      "0.8699068692302209\n",
      "{'max_depth': 23, 'min_samples_leaf': 66, 'n_estimators': 200, 'random_state': 1}\n",
      "              train      test\n",
      "metrics                      \n",
      "AUC        0.877229  0.872150\n",
      "Accuracy   0.791833  0.788272\n",
      "Precision  0.787764  0.781894\n",
      "Recall     0.764558  0.760439\n",
      "f1-score   0.775988  0.771017\n"
     ]
    },
    {
     "data": {
      "image/png": "[encoded data removed]",
      "text/plain": [
       "<Figure size 432x288 with 1 Axes>"
      ]
     },
     "metadata": {},
     "output_type": "display_data"
    }
   ],
   "source": [
    "model = RandomForestClassifier()\n",
    "\n",
    "param_dist = {\"n_estimators\": [50,100,200],\n",
    "              \"max_depth\": sp_randint(1, 25),\n",
    "              \"min_samples_leaf\": sp_randint(1, 100),\n",
    "              \"random_state\": [1]\n",
    "             }\n",
    "\n",
    "random_grid = RandomizedSearchCV(estimator = model, param_distributions=param_dist, cv = 5, scoring = 'roc_auc',\n",
    "                              n_iter=5,\n",
    "                             )\n",
    "\n",
    "random_grid.fit(X_train_scaled, target_train)\n",
    "\n",
    "print(random_grid.best_score_)\n",
    "print(random_grid.best_params_)\n",
    "\n",
    "best_model_RF = random_grid.best_estimator_\n",
    "\n",
    "train_test_model(best_model_RF, \n",
    "                 X_train_scaled, target_train, \n",
    "                 X_test_scaled, target_test)"
   ]
  },
  {
   "cell_type": "markdown",
   "metadata": {},
   "source": [
    "### 11.3.2 Use (Stardardized + PCA) tf-idf vectors as features"
   ]
  },
  {
   "cell_type": "code",
   "execution_count": 79,
   "metadata": {},
   "outputs": [
    {
     "name": "stdout",
     "output_type": "stream",
     "text": [
      "0.881210697016237\n",
      "{'max_depth': 18, 'min_samples_leaf': 16, 'n_estimators': 100, 'random_state': 1}\n",
      "              train      test\n",
      "metrics                      \n",
      "AUC        0.948276  0.884355\n",
      "Accuracy   0.871676  0.800989\n",
      "Precision  0.856146  0.785105\n",
      "Recall     0.874888  0.792317\n",
      "f1-score   0.865415  0.788694\n"
     ]
    },
    {
     "data": {
      "image/png": "[encoded data removed]",
      "text/plain": [
       "<Figure size 432x288 with 1 Axes>"
      ]
     },
     "metadata": {},
     "output_type": "display_data"
    }
   ],
   "source": [
    "model = RandomForestClassifier()\n",
    "\n",
    "param_dist = {\"n_estimators\": [50,100,200],\n",
    "              \"max_depth\": sp_randint(1, 25),\n",
    "              \"min_samples_leaf\": sp_randint(1, 100),\n",
    "              \"random_state\": [1]\n",
    "             }\n",
    "\n",
    "random_grid = RandomizedSearchCV(estimator = model, param_distributions=param_dist, cv = 5, scoring = 'roc_auc',\n",
    "                              n_iter=5,\n",
    "                             )\n",
    "\n",
    "random_grid.fit(X_train_pca, target_train)\n",
    "\n",
    "print(random_grid.best_score_)\n",
    "print(random_grid.best_params_)\n",
    "\n",
    "best_model_RF = random_grid.best_estimator_\n",
    "\n",
    "train_test_model(best_model_RF, \n",
    "                 X_train_pca, target_train, \n",
    "                 X_test_pca, target_test)"
   ]
  },
  {
   "cell_type": "markdown",
   "metadata": {},
   "source": [
    "### 11.3.3 Visualization: PCA components"
   ]
  },
  {
   "cell_type": "code",
   "execution_count": 80,
   "metadata": {},
   "outputs": [
    {
     "data": {
      "text/html": [
       "<div>\n",
       "<style scoped>\n",
       "    .dataframe tbody tr th:only-of-type {\n",
       "        vertical-align: middle;\n",
       "    }\n",
       "\n",
       "    .dataframe tbody tr th {\n",
       "        vertical-align: top;\n",
       "    }\n",
       "\n",
       "    .dataframe thead th {\n",
       "        text-align: right;\n",
       "    }\n",
       "</style>\n",
       "<table border=\"1\" class=\"dataframe\">\n",
       "  <thead>\n",
       "    <tr style=\"text-align: right;\">\n",
       "      <th></th>\n",
       "      <th>PCAs</th>\n",
       "      <th>coef</th>\n",
       "    </tr>\n",
       "  </thead>\n",
       "  <tbody>\n",
       "    <tr>\n",
       "      <th>13</th>\n",
       "      <td>PCA_14</td>\n",
       "      <td>0.000050</td>\n",
       "    </tr>\n",
       "    <tr>\n",
       "      <th>14</th>\n",
       "      <td>PCA_15</td>\n",
       "      <td>0.000079</td>\n",
       "    </tr>\n",
       "    <tr>\n",
       "      <th>24</th>\n",
       "      <td>PCA_25</td>\n",
       "      <td>0.000083</td>\n",
       "    </tr>\n",
       "    <tr>\n",
       "      <th>34</th>\n",
       "      <td>PCA_35</td>\n",
       "      <td>0.000086</td>\n",
       "    </tr>\n",
       "    <tr>\n",
       "      <th>26</th>\n",
       "      <td>PCA_27</td>\n",
       "      <td>0.000090</td>\n",
       "    </tr>\n",
       "  </tbody>\n",
       "</table>\n",
       "</div>"
      ],
      "text/plain": [
       "      PCAs      coef\n",
       "13  PCA_14  0.000050\n",
       "14  PCA_15  0.000079\n",
       "24  PCA_25  0.000083\n",
       "34  PCA_35  0.000086\n",
       "26  PCA_27  0.000090"
      ]
     },
     "execution_count": 80,
     "metadata": {},
     "output_type": "execute_result"
    }
   ],
   "source": [
    "pca_range = np.arange(pca.n_components_) + 1\n",
    "pca_names = ['PCA_%s' % i for i in pca_range]\n",
    "df_coefs = pd.DataFrame(list(zip(pca_names, model_rfc.feature_importances_))).sort_values(by = [1], ascending = True)\n",
    "df_coefs.columns = [\"PCAs\", \"coef\"]\n",
    "df_coefs[:5]"
   ]
  },
  {
   "cell_type": "code",
   "execution_count": 81,
   "metadata": {},
   "outputs": [
    {
     "data": {
      "image/png": "[encoded data removed]",
      "text/plain": [
       "<Figure size 720x720 with 1 Axes>"
      ]
     },
     "metadata": {},
     "output_type": "display_data"
    }
   ],
   "source": [
    "ax = df_coefs.plot.barh(figsize = (10, 10))\n",
    "t= np.arange(pca.n_components_)\n",
    "ax.set_yticks(t)\n",
    "ax.set_yticklabels(df_coefs['PCAs'])\n",
    "plt.show()"
   ]
  },
  {
   "cell_type": "markdown",
   "metadata": {},
   "source": [
    "### 11.4 Model comparison\n",
    "\n",
    "| Model | gs_trian_auc | gs_test_auc | std._trian_acu | std._trian_acu | std.&PCA_trian_auc | std.&PCA_test_auc |\n",
    "| ---  | --- | --- | ---  | --- | --- |\n",
    "| KNN | 0.8649 | **0.8649** | 0.7982 | **0.7982** | 0.8761 | **0.8761** | \n",
    "| Logistic Regression | 0.9063 | 0.9066 | 0.9063 | 0.9066 | 0.8885 | 0.8906 | \n",
    "| Random Forest | **0.8833** | **0.8745** | 0.8772 | 0.8722 | **0.9483** | **0.8844** | \n",
    "\n",
    "| Model | gs_trian_accuracy | gs_test_accuracy | std._trian_accuracy | std._trian_accuracy | std.&PCA_trian_accuracy | std.&PCA_test_accuracy |\n",
    "| ---  | --- | --- | ---  | --- | --- |\n",
    "| KNN | 0.7589 | **0.7589** | 0.7080 | **0.7080** | 0.7921 | **0.7921** | \n",
    "| Logistic Regression | 0.8247 | 0.8256 | 0.8247 | 0.8255 | 0.8066 | 0.8098 | \n",
    "| Random Forest | **0.7978** | **0.7913** | 0.7918 | 0.7883 | **0.8717** | **0.8010** | \n",
    "\n",
    "#### Do standardized and standardized&PCA preprocessing improve the basic model performce by comparing the AUCs and Accuracies? \n",
    "- Only perform **standardization without PCA**\n",
    "    - No significant impact on performances of **Logistic Regression** and **Random Forest**.\n",
    "    - Have nagetive impact on **KNN**.\n",
    "        - Perhaps when we reduce the value scale of all dimensions, we reduce the value scale of distance between data points, thus, reduce the distinguish power of our model.\n",
    "\n",
    "- Perform **standardization with PCA** \n",
    "    - No significant impact on performances of **Logistic Regression**.\n",
    "        - Perhaps the previous basic **Logistic Regression** model has already performed normalization which essentially reduced feature dimensions, thus the PCA play the same role and have no impact on the model performance.\n",
    "    - Improve the performance of **KNN**.\n",
    "        - Before we perform PCA, our basic model may suffer from **Curse of Dimensionality** which means nearest neighbors can be 'far' in high dimension. \n",
    "        - **KNN**, or any method involving this sort of distancing, suffers majorly from **curse of dimensionality**.\n",
    "        - PCA reduce feature dimensions and negative effect of **curse of dimensionality** to improve the performnce of **KNN**, especially the accuracy.\n",
    "    - Have a negative impact on the overfitting issue of **Random Forest** that provides a more unstable result.\n",
    "        - Different between trian_acu and test_auc become larger, which indicates overfitting and unstability.\n",
    "        - The goal of the **Random Forest** is to lower down an overall variance by randomly using a portion of features to generate each tree structure seperately. Using a less number of pca components can lead to an issue that each tree structure is more likely to be the same with other trees' structures. Therefore, using a less number of pca components results in an overfitting issue."
   ]
  },
  {
   "cell_type": "code",
   "execution_count": null,
   "metadata": {},
   "outputs": [],
   "source": []
  }
 ],
 "metadata": {
  "anaconda-cloud": {},
  "kernelspec": {
   "display_name": "Python 3",
   "language": "python",
   "name": "python3"
  },
  "language_info": {
   "codemirror_mode": {
    "name": "ipython",
    "version": 3
   },
   "file_extension": ".py",
   "mimetype": "text/x-python",
   "name": "python",
   "nbconvert_exporter": "python",
   "pygments_lexer": "ipython3",
   "version": "3.6.5"
  }
 },
 "nbformat": 4,
 "nbformat_minor": 1
}
