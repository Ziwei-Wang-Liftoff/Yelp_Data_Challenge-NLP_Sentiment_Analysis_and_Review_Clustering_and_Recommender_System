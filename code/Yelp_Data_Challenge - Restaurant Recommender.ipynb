{
 "cells": [
  {
   "cell_type": "markdown",
   "metadata": {},
   "source": [
    "# Yelp_Data_Challenge - Restaurant Recommender"
   ]
  },
  {
   "cell_type": "markdown",
   "metadata": {},
   "source": [
    "## Main Tasks\n",
    "\n",
    "1. Clean data and get rating data\n",
    "2. Select target users\n",
    "3. Create utility matrix from records\n",
    "    - 3.1 Option #1, use pandas.pivot_table\n",
    "    - 3.2 Option #2, convert to sparse matrix using scipy.sparse.lil_matrix\n",
    "4. Build restaurant recommender systems\n",
    "    - 4.1 Popularity-based recommender\n",
    "    - 4.2 Item-Item similarity recommender\n",
    "    - 4.3 Matrix Factorization recommender: NMF\n",
    "        - 4.3.1 Matrix Reconstruction error - NMF\n",
    "        - 4.3.2 Recommendation - NMF\n",
    "    - 4.4 Matrix Factorization recommender: UVD\n",
    "        - 4.4.1 Matrix Reconstruction Error - UVD\n",
    "        - 4.4.2 Recommendation - UVD\n",
    "5. Specific recommendation results comparison and insights"
   ]
  },
  {
   "cell_type": "code",
   "execution_count": 78,
   "metadata": {},
   "outputs": [],
   "source": [
    "import numpy as np\n",
    "import pandas as pd\n",
    "from scipy import sparse\n",
    "from sklearn.metrics.pairwise import cosine_similarity\n",
    "from time import time\n",
    "import math\n",
    "import matplotlib.pyplot as plt\n",
    "% matplotlib inline\n",
    "\n",
    "plt.style.use(\"ggplot\")"
   ]
  },
  {
   "cell_type": "code",
   "execution_count": 48,
   "metadata": {},
   "outputs": [],
   "source": [
    "df = pd.read_csv('dataset/last_2_years_restaurant_reviews.csv')"
   ]
  },
  {
   "cell_type": "code",
   "execution_count": 49,
   "metadata": {},
   "outputs": [
    {
     "data": {
      "text/html": [
       "<div>\n",
       "<style scoped>\n",
       "    .dataframe tbody tr th:only-of-type {\n",
       "        vertical-align: middle;\n",
       "    }\n",
       "\n",
       "    .dataframe tbody tr th {\n",
       "        vertical-align: top;\n",
       "    }\n",
       "\n",
       "    .dataframe thead th {\n",
       "        text-align: right;\n",
       "    }\n",
       "</style>\n",
       "<table border=\"1\" class=\"dataframe\">\n",
       "  <thead>\n",
       "    <tr style=\"text-align: right;\">\n",
       "      <th></th>\n",
       "      <th>name</th>\n",
       "      <th>categories</th>\n",
       "      <th>avg_stars</th>\n",
       "      <th>cool</th>\n",
       "      <th>date</th>\n",
       "      <th>funny</th>\n",
       "      <th>review_id</th>\n",
       "      <th>stars</th>\n",
       "      <th>text</th>\n",
       "      <th>useful</th>\n",
       "      <th>user_id</th>\n",
       "    </tr>\n",
       "  </thead>\n",
       "  <tbody>\n",
       "    <tr>\n",
       "      <th>0</th>\n",
       "      <td>Delmonico Steakhouse</td>\n",
       "      <td>['Cajun/Creole', 'Steakhouses', 'Restaurants']</td>\n",
       "      <td>4.0</td>\n",
       "      <td>0</td>\n",
       "      <td>2016-03-31</td>\n",
       "      <td>0</td>\n",
       "      <td>6SgvNWJltnZhW7duJgZ42w</td>\n",
       "      <td>5</td>\n",
       "      <td>This is mine and my fiancé's favorite steakhou...</td>\n",
       "      <td>0</td>\n",
       "      <td>oFyOUOeGTRZhFPF9uTqrTQ</td>\n",
       "    </tr>\n",
       "    <tr>\n",
       "      <th>1</th>\n",
       "      <td>Delmonico Steakhouse</td>\n",
       "      <td>['Cajun/Creole', 'Steakhouses', 'Restaurants']</td>\n",
       "      <td>4.0</td>\n",
       "      <td>0</td>\n",
       "      <td>2016-02-10</td>\n",
       "      <td>0</td>\n",
       "      <td>UxFpgng8dPMWOj99653k5Q</td>\n",
       "      <td>5</td>\n",
       "      <td>Truly Fantastic!  Best Steak ever. Service was...</td>\n",
       "      <td>0</td>\n",
       "      <td>aVOGlN9fZ-BXcbtj6dbf0g</td>\n",
       "    </tr>\n",
       "    <tr>\n",
       "      <th>2</th>\n",
       "      <td>Delmonico Steakhouse</td>\n",
       "      <td>['Cajun/Creole', 'Steakhouses', 'Restaurants']</td>\n",
       "      <td>4.0</td>\n",
       "      <td>0</td>\n",
       "      <td>2017-02-14</td>\n",
       "      <td>0</td>\n",
       "      <td>Xp3ppynEvVu1KxDHQ3ae8w</td>\n",
       "      <td>5</td>\n",
       "      <td>Delmonico Steakhouse is a steakhouse owned by ...</td>\n",
       "      <td>0</td>\n",
       "      <td>KC8H7qTZVPIEnanw9fG43g</td>\n",
       "    </tr>\n",
       "    <tr>\n",
       "      <th>3</th>\n",
       "      <td>Delmonico Steakhouse</td>\n",
       "      <td>['Cajun/Creole', 'Steakhouses', 'Restaurants']</td>\n",
       "      <td>4.0</td>\n",
       "      <td>1</td>\n",
       "      <td>2017-05-28</td>\n",
       "      <td>0</td>\n",
       "      <td>LEzphAnz0vKE32PUCbjLgQ</td>\n",
       "      <td>4</td>\n",
       "      <td>One of the top steak places I've had in Vegas ...</td>\n",
       "      <td>2</td>\n",
       "      <td>3RTesI_MAwct13LWm4rhLw</td>\n",
       "    </tr>\n",
       "    <tr>\n",
       "      <th>4</th>\n",
       "      <td>Delmonico Steakhouse</td>\n",
       "      <td>['Cajun/Creole', 'Steakhouses', 'Restaurants']</td>\n",
       "      <td>4.0</td>\n",
       "      <td>0</td>\n",
       "      <td>2017-08-25</td>\n",
       "      <td>0</td>\n",
       "      <td>4e-cxYVdlIu2ZDxVJqUfOQ</td>\n",
       "      <td>5</td>\n",
       "      <td>This place is superb from the customer service...</td>\n",
       "      <td>0</td>\n",
       "      <td>EAOt1UQhJD0GG3l_jv7rWA</td>\n",
       "    </tr>\n",
       "  </tbody>\n",
       "</table>\n",
       "</div>"
      ],
      "text/plain": [
       "                   name                                      categories  \\\n",
       "0  Delmonico Steakhouse  ['Cajun/Creole', 'Steakhouses', 'Restaurants']   \n",
       "1  Delmonico Steakhouse  ['Cajun/Creole', 'Steakhouses', 'Restaurants']   \n",
       "2  Delmonico Steakhouse  ['Cajun/Creole', 'Steakhouses', 'Restaurants']   \n",
       "3  Delmonico Steakhouse  ['Cajun/Creole', 'Steakhouses', 'Restaurants']   \n",
       "4  Delmonico Steakhouse  ['Cajun/Creole', 'Steakhouses', 'Restaurants']   \n",
       "\n",
       "   avg_stars  cool        date  funny               review_id  stars  \\\n",
       "0        4.0     0  2016-03-31      0  6SgvNWJltnZhW7duJgZ42w      5   \n",
       "1        4.0     0  2016-02-10      0  UxFpgng8dPMWOj99653k5Q      5   \n",
       "2        4.0     0  2017-02-14      0  Xp3ppynEvVu1KxDHQ3ae8w      5   \n",
       "3        4.0     1  2017-05-28      0  LEzphAnz0vKE32PUCbjLgQ      4   \n",
       "4        4.0     0  2017-08-25      0  4e-cxYVdlIu2ZDxVJqUfOQ      5   \n",
       "\n",
       "                                                text  useful  \\\n",
       "0  This is mine and my fiancé's favorite steakhou...       0   \n",
       "1  Truly Fantastic!  Best Steak ever. Service was...       0   \n",
       "2  Delmonico Steakhouse is a steakhouse owned by ...       0   \n",
       "3  One of the top steak places I've had in Vegas ...       2   \n",
       "4  This place is superb from the customer service...       0   \n",
       "\n",
       "                  user_id  \n",
       "0  oFyOUOeGTRZhFPF9uTqrTQ  \n",
       "1  aVOGlN9fZ-BXcbtj6dbf0g  \n",
       "2  KC8H7qTZVPIEnanw9fG43g  \n",
       "3  3RTesI_MAwct13LWm4rhLw  \n",
       "4  EAOt1UQhJD0GG3l_jv7rWA  "
      ]
     },
     "execution_count": 49,
     "metadata": {},
     "output_type": "execute_result"
    }
   ],
   "source": [
    "df.head()"
   ]
  },
  {
   "cell_type": "markdown",
   "metadata": {},
   "source": [
    "## 1. Clean data and get rating data "
   ]
  },
  {
   "cell_type": "markdown",
   "metadata": {},
   "source": [
    "#### Select relevant columns in the original dataframe"
   ]
  },
  {
   "cell_type": "code",
   "execution_count": 50,
   "metadata": {},
   "outputs": [
    {
     "data": {
      "text/plain": [
       "(447033, 3)"
      ]
     },
     "execution_count": 50,
     "metadata": {},
     "output_type": "execute_result"
    }
   ],
   "source": [
    "# Get business_id, user_id, stars for recommender\n",
    "\n",
    "df_recommender = df[['name', 'user_id', 'stars']]\n",
    "df_recommender.shape"
   ]
  },
  {
   "cell_type": "code",
   "execution_count": 51,
   "metadata": {},
   "outputs": [
    {
     "name": "stdout",
     "output_type": "stream",
     "text": [
      "203744\n",
      "3279\n"
     ]
    }
   ],
   "source": [
    "# In total, 203744 users we have\n",
    "print(len(df_recommender.user_id.unique()))\n",
    "\n",
    "# In total, 3279 restaurants we have\n",
    "print(len(df_recommender.name.unique()))"
   ]
  },
  {
   "cell_type": "code",
   "execution_count": 52,
   "metadata": {},
   "outputs": [
    {
     "data": {
      "text/plain": [
       "<BarContainer object of 5 artists>"
      ]
     },
     "execution_count": 52,
     "metadata": {},
     "output_type": "execute_result"
    },
    {
     "data": {
      "image/png": "[encoded data removed]",
      "text/plain": [
       "<Figure size 432x288 with 1 Axes>"
      ]
     },
     "metadata": {},
     "output_type": "display_data"
    }
   ],
   "source": [
    "# Plot the star (rating) distribution using bar chart\n",
    "plt.bar(df_recommender.stars.value_counts().index, \n",
    "        df_recommender.stars.value_counts().values, align='center', alpha=0.5)"
   ]
  },
  {
   "cell_type": "markdown",
   "metadata": {},
   "source": [
    "#### Most of users rated 4 or 5 stars to restaurants "
   ]
  },
  {
   "cell_type": "markdown",
   "metadata": {},
   "source": [
    "## 2. Select target users"
   ]
  },
  {
   "cell_type": "markdown",
   "metadata": {},
   "source": [
    "#### There are many users that haven't given many reviews, exclude these users from the item-item similarity recommender. My goal at here is to select those users who rated more than four times. Thus, the row dimension can be reduced.\n",
    "#### We can recommend popular items at first to users given less than four reviews. "
   ]
  },
  {
   "cell_type": "code",
   "execution_count": 53,
   "metadata": {},
   "outputs": [],
   "source": [
    "# filter users commend more than 4 times\n",
    "\n",
    "df_user = df_recommender['user_id'].value_counts()\n",
    "df_user = df_user[df_user >= 3]"
   ]
  },
  {
   "cell_type": "code",
   "execution_count": 54,
   "metadata": {},
   "outputs": [
    {
     "data": {
      "text/plain": [
       "(38576, 248913)"
      ]
     },
     "execution_count": 54,
     "metadata": {},
     "output_type": "execute_result"
    }
   ],
   "source": [
    "df_user.count(), df_user.sum()"
   ]
  },
  {
   "cell_type": "code",
   "execution_count": 55,
   "metadata": {},
   "outputs": [
    {
     "name": "stderr",
     "output_type": "stream",
     "text": [
      "/anaconda3/lib/python3.6/site-packages/ipykernel_launcher.py:2: DeprecationWarning: \n",
      ".ix is deprecated. Please use\n",
      ".loc for label based indexing or\n",
      ".iloc for positional indexing\n",
      "\n",
      "See the documentation here:\n",
      "http://pandas.pydata.org/pandas-docs/stable/indexing.html#ix-indexer-is-deprecated\n",
      "  \n"
     ]
    },
    {
     "data": {
      "text/html": [
       "<div>\n",
       "<style scoped>\n",
       "    .dataframe tbody tr th:only-of-type {\n",
       "        vertical-align: middle;\n",
       "    }\n",
       "\n",
       "    .dataframe tbody tr th {\n",
       "        vertical-align: top;\n",
       "    }\n",
       "\n",
       "    .dataframe thead th {\n",
       "        text-align: right;\n",
       "    }\n",
       "</style>\n",
       "<table border=\"1\" class=\"dataframe\">\n",
       "  <thead>\n",
       "    <tr style=\"text-align: right;\">\n",
       "      <th></th>\n",
       "      <th>user_id</th>\n",
       "      <th>name</th>\n",
       "      <th>stars</th>\n",
       "    </tr>\n",
       "  </thead>\n",
       "  <tbody>\n",
       "    <tr>\n",
       "      <th>0</th>\n",
       "      <td>bLbSNkLggFnqwNNzzq-Ijw</td>\n",
       "      <td>The Rice Shop</td>\n",
       "      <td>4</td>\n",
       "    </tr>\n",
       "    <tr>\n",
       "      <th>1</th>\n",
       "      <td>bLbSNkLggFnqwNNzzq-Ijw</td>\n",
       "      <td>Toddy Shop</td>\n",
       "      <td>5</td>\n",
       "    </tr>\n",
       "  </tbody>\n",
       "</table>\n",
       "</div>"
      ],
      "text/plain": [
       "                  user_id           name  stars\n",
       "0  bLbSNkLggFnqwNNzzq-Ijw  The Rice Shop      4\n",
       "1  bLbSNkLggFnqwNNzzq-Ijw     Toddy Shop      5"
      ]
     },
     "execution_count": 55,
     "metadata": {},
     "output_type": "execute_result"
    }
   ],
   "source": [
    "# filter users commend more than 4 times and set user_id as index\n",
    "df_recommender_cleaned = df_recommender.set_index('user_id').ix[df_user.index].reset_index()\n",
    "df_recommender_cleaned.head(2)"
   ]
  },
  {
   "cell_type": "code",
   "execution_count": 56,
   "metadata": {},
   "outputs": [
    {
     "data": {
      "text/plain": [
       "(248913, 3)"
      ]
     },
     "execution_count": 56,
     "metadata": {},
     "output_type": "execute_result"
    }
   ],
   "source": [
    "df_recommender_cleaned.shape"
   ]
  },
  {
   "cell_type": "markdown",
   "metadata": {},
   "source": [
    "##### extract the unique list of user_id and resturant_name "
   ]
  },
  {
   "cell_type": "code",
   "execution_count": 57,
   "metadata": {},
   "outputs": [
    {
     "data": {
      "text/html": [
       "<div>\n",
       "<style scoped>\n",
       "    .dataframe tbody tr th:only-of-type {\n",
       "        vertical-align: middle;\n",
       "    }\n",
       "\n",
       "    .dataframe tbody tr th {\n",
       "        vertical-align: top;\n",
       "    }\n",
       "\n",
       "    .dataframe thead th {\n",
       "        text-align: right;\n",
       "    }\n",
       "</style>\n",
       "<table border=\"1\" class=\"dataframe\">\n",
       "  <thead>\n",
       "    <tr style=\"text-align: right;\">\n",
       "      <th></th>\n",
       "      <th>user_number</th>\n",
       "      <th>user_id</th>\n",
       "    </tr>\n",
       "  </thead>\n",
       "  <tbody>\n",
       "    <tr>\n",
       "      <th>0</th>\n",
       "      <td>0</td>\n",
       "      <td>bLbSNkLggFnqwNNzzq-Ijw</td>\n",
       "    </tr>\n",
       "    <tr>\n",
       "      <th>1</th>\n",
       "      <td>1</td>\n",
       "      <td>JaqcCU3nxReTW2cBLHounA</td>\n",
       "    </tr>\n",
       "  </tbody>\n",
       "</table>\n",
       "</div>"
      ],
      "text/plain": [
       "   user_number                 user_id\n",
       "0            0  bLbSNkLggFnqwNNzzq-Ijw\n",
       "1            1  JaqcCU3nxReTW2cBLHounA"
      ]
     },
     "execution_count": 57,
     "metadata": {},
     "output_type": "execute_result"
    }
   ],
   "source": [
    "user_id_list = pd.DataFrame(df_recommender_cleaned['user_id'].unique())\n",
    "user_id_list = user_id_list.reset_index()\n",
    "# Rename the columns \n",
    "user_id_list.columns = ['user_number', 'user_id']\n",
    "user_id_list.head(2)"
   ]
  },
  {
   "cell_type": "code",
   "execution_count": 58,
   "metadata": {},
   "outputs": [
    {
     "data": {
      "text/html": [
       "<div>\n",
       "<style scoped>\n",
       "    .dataframe tbody tr th:only-of-type {\n",
       "        vertical-align: middle;\n",
       "    }\n",
       "\n",
       "    .dataframe tbody tr th {\n",
       "        vertical-align: top;\n",
       "    }\n",
       "\n",
       "    .dataframe thead th {\n",
       "        text-align: right;\n",
       "    }\n",
       "</style>\n",
       "<table border=\"1\" class=\"dataframe\">\n",
       "  <thead>\n",
       "    <tr style=\"text-align: right;\">\n",
       "      <th></th>\n",
       "      <th>restaurant_number</th>\n",
       "      <th>name</th>\n",
       "    </tr>\n",
       "  </thead>\n",
       "  <tbody>\n",
       "    <tr>\n",
       "      <th>0</th>\n",
       "      <td>0</td>\n",
       "      <td>The Rice Shop</td>\n",
       "    </tr>\n",
       "    <tr>\n",
       "      <th>1</th>\n",
       "      <td>1</td>\n",
       "      <td>Toddy Shop</td>\n",
       "    </tr>\n",
       "  </tbody>\n",
       "</table>\n",
       "</div>"
      ],
      "text/plain": [
       "   restaurant_number           name\n",
       "0                  0  The Rice Shop\n",
       "1                  1     Toddy Shop"
      ]
     },
     "execution_count": 58,
     "metadata": {},
     "output_type": "execute_result"
    }
   ],
   "source": [
    "restaurant_list = pd.DataFrame(df_recommender_cleaned['name'].unique())\n",
    "restaurant_list = restaurant_list.reset_index()\n",
    "# Rename the columns \n",
    "restaurant_list.columns = ['restaurant_number', 'name']\n",
    "restaurant_list.head(2)"
   ]
  },
  {
   "cell_type": "code",
   "execution_count": 59,
   "metadata": {},
   "outputs": [
    {
     "data": {
      "text/html": [
       "<div>\n",
       "<style scoped>\n",
       "    .dataframe tbody tr th:only-of-type {\n",
       "        vertical-align: middle;\n",
       "    }\n",
       "\n",
       "    .dataframe tbody tr th {\n",
       "        vertical-align: top;\n",
       "    }\n",
       "\n",
       "    .dataframe thead th {\n",
       "        text-align: right;\n",
       "    }\n",
       "</style>\n",
       "<table border=\"1\" class=\"dataframe\">\n",
       "  <thead>\n",
       "    <tr style=\"text-align: right;\">\n",
       "      <th></th>\n",
       "      <th>user_id</th>\n",
       "      <th>name</th>\n",
       "      <th>stars</th>\n",
       "      <th>user_number</th>\n",
       "      <th>restaurant_number</th>\n",
       "    </tr>\n",
       "  </thead>\n",
       "  <tbody>\n",
       "    <tr>\n",
       "      <th>0</th>\n",
       "      <td>bLbSNkLggFnqwNNzzq-Ijw</td>\n",
       "      <td>The Rice Shop</td>\n",
       "      <td>4</td>\n",
       "      <td>0</td>\n",
       "      <td>0</td>\n",
       "    </tr>\n",
       "    <tr>\n",
       "      <th>1</th>\n",
       "      <td>bLbSNkLggFnqwNNzzq-Ijw</td>\n",
       "      <td>Toddy Shop</td>\n",
       "      <td>5</td>\n",
       "      <td>0</td>\n",
       "      <td>1</td>\n",
       "    </tr>\n",
       "  </tbody>\n",
       "</table>\n",
       "</div>"
      ],
      "text/plain": [
       "                  user_id           name  stars  user_number  \\\n",
       "0  bLbSNkLggFnqwNNzzq-Ijw  The Rice Shop      4            0   \n",
       "1  bLbSNkLggFnqwNNzzq-Ijw     Toddy Shop      5            0   \n",
       "\n",
       "   restaurant_number  \n",
       "0                  0  \n",
       "1                  1  "
      ]
     },
     "execution_count": 59,
     "metadata": {},
     "output_type": "execute_result"
    }
   ],
   "source": [
    "# merge \"df_recommender_cleaned\", \"user_id_list\" and \"restaurant_list\"\n",
    "df_recommender_cleaned = pd.merge(df_recommender_cleaned, user_id_list, on = 'user_id', how = 'left')\n",
    "df_recommender_cleaned = pd.merge(df_recommender_cleaned, restaurant_list, on = 'name', how = 'left')\n",
    "\n",
    "df_recommender_cleaned.head(2)"
   ]
  },
  {
   "cell_type": "markdown",
   "metadata": {},
   "source": [
    "## 3. Create utility matrix from records"
   ]
  },
  {
   "cell_type": "markdown",
   "metadata": {},
   "source": [
    "### 3.1 Option #1, use pandas.pivot_table"
   ]
  },
  {
   "cell_type": "code",
   "execution_count": 60,
   "metadata": {},
   "outputs": [],
   "source": [
    "utility_mat = pd.pivot_table(data = df_recommender_cleaned,\n",
    "                           values = 'stars',\n",
    "                           index = 'user_number',\n",
    "                           columns = 'restaurant_number',\n",
    "                           fill_value = 0)"
   ]
  },
  {
   "cell_type": "code",
   "execution_count": 61,
   "metadata": {},
   "outputs": [
    {
     "data": {
      "text/html": [
       "<div>\n",
       "<style scoped>\n",
       "    .dataframe tbody tr th:only-of-type {\n",
       "        vertical-align: middle;\n",
       "    }\n",
       "\n",
       "    .dataframe tbody tr th {\n",
       "        vertical-align: top;\n",
       "    }\n",
       "\n",
       "    .dataframe thead th {\n",
       "        text-align: right;\n",
       "    }\n",
       "</style>\n",
       "<table border=\"1\" class=\"dataframe\">\n",
       "  <thead>\n",
       "    <tr style=\"text-align: right;\">\n",
       "      <th>restaurant_number</th>\n",
       "      <th>0</th>\n",
       "      <th>1</th>\n",
       "      <th>2</th>\n",
       "      <th>3</th>\n",
       "      <th>4</th>\n",
       "      <th>5</th>\n",
       "      <th>6</th>\n",
       "      <th>7</th>\n",
       "      <th>8</th>\n",
       "      <th>9</th>\n",
       "      <th>...</th>\n",
       "      <th>3132</th>\n",
       "      <th>3133</th>\n",
       "      <th>3134</th>\n",
       "      <th>3135</th>\n",
       "      <th>3136</th>\n",
       "      <th>3137</th>\n",
       "      <th>3138</th>\n",
       "      <th>3139</th>\n",
       "      <th>3140</th>\n",
       "      <th>3141</th>\n",
       "    </tr>\n",
       "    <tr>\n",
       "      <th>user_number</th>\n",
       "      <th></th>\n",
       "      <th></th>\n",
       "      <th></th>\n",
       "      <th></th>\n",
       "      <th></th>\n",
       "      <th></th>\n",
       "      <th></th>\n",
       "      <th></th>\n",
       "      <th></th>\n",
       "      <th></th>\n",
       "      <th></th>\n",
       "      <th></th>\n",
       "      <th></th>\n",
       "      <th></th>\n",
       "      <th></th>\n",
       "      <th></th>\n",
       "      <th></th>\n",
       "      <th></th>\n",
       "      <th></th>\n",
       "      <th></th>\n",
       "      <th></th>\n",
       "    </tr>\n",
       "  </thead>\n",
       "  <tbody>\n",
       "    <tr>\n",
       "      <th>0</th>\n",
       "      <td>4</td>\n",
       "      <td>5</td>\n",
       "      <td>3</td>\n",
       "      <td>4</td>\n",
       "      <td>4.0</td>\n",
       "      <td>4</td>\n",
       "      <td>4.0</td>\n",
       "      <td>4.0</td>\n",
       "      <td>4</td>\n",
       "      <td>2</td>\n",
       "      <td>...</td>\n",
       "      <td>0</td>\n",
       "      <td>0</td>\n",
       "      <td>0</td>\n",
       "      <td>0</td>\n",
       "      <td>0</td>\n",
       "      <td>0</td>\n",
       "      <td>0</td>\n",
       "      <td>0</td>\n",
       "      <td>0</td>\n",
       "      <td>0</td>\n",
       "    </tr>\n",
       "    <tr>\n",
       "      <th>1</th>\n",
       "      <td>0</td>\n",
       "      <td>0</td>\n",
       "      <td>0</td>\n",
       "      <td>0</td>\n",
       "      <td>0.0</td>\n",
       "      <td>3</td>\n",
       "      <td>0.0</td>\n",
       "      <td>0.0</td>\n",
       "      <td>3</td>\n",
       "      <td>4</td>\n",
       "      <td>...</td>\n",
       "      <td>0</td>\n",
       "      <td>0</td>\n",
       "      <td>0</td>\n",
       "      <td>0</td>\n",
       "      <td>0</td>\n",
       "      <td>0</td>\n",
       "      <td>0</td>\n",
       "      <td>0</td>\n",
       "      <td>0</td>\n",
       "      <td>0</td>\n",
       "    </tr>\n",
       "  </tbody>\n",
       "</table>\n",
       "<p>2 rows × 3142 columns</p>\n",
       "</div>"
      ],
      "text/plain": [
       "restaurant_number  0     1     2     3     4     5     6     7     8     9     \\\n",
       "user_number                                                                     \n",
       "0                     4     5     3     4   4.0     4   4.0   4.0     4     2   \n",
       "1                     0     0     0     0   0.0     3   0.0   0.0     3     4   \n",
       "\n",
       "restaurant_number  ...   3132  3133  3134  3135  3136  3137  3138  3139  3140  \\\n",
       "user_number        ...                                                          \n",
       "0                  ...      0     0     0     0     0     0     0     0     0   \n",
       "1                  ...      0     0     0     0     0     0     0     0     0   \n",
       "\n",
       "restaurant_number  3141  \n",
       "user_number              \n",
       "0                     0  \n",
       "1                     0  \n",
       "\n",
       "[2 rows x 3142 columns]"
      ]
     },
     "execution_count": 61,
     "metadata": {},
     "output_type": "execute_result"
    }
   ],
   "source": [
    "utility_mat.head(2)"
   ]
  },
  {
   "cell_type": "code",
   "execution_count": 62,
   "metadata": {},
   "outputs": [
    {
     "data": {
      "text/plain": [
       "(38576, 3142)"
      ]
     },
     "execution_count": 62,
     "metadata": {},
     "output_type": "execute_result"
    }
   ],
   "source": [
    "utility_mat.shape"
   ]
  },
  {
   "cell_type": "markdown",
   "metadata": {},
   "source": [
    "### 3.2 Option #2, convert to sparse matrix using scipy.sparse.lil_matrix"
   ]
  },
  {
   "cell_type": "code",
   "execution_count": 63,
   "metadata": {},
   "outputs": [
    {
     "data": {
      "text/plain": [
       "<38576x3142 sparse matrix of type '<class 'numpy.float64'>'\n",
       "\twith 0 stored elements in LInked List format>"
      ]
     },
     "execution_count": 63,
     "metadata": {},
     "output_type": "execute_result"
    }
   ],
   "source": [
    "highest_user_id = df_recommender_cleaned.user_number.max()\n",
    "highest_restaurant_id = df_recommender_cleaned.restaurant_number.max()\n",
    "ratings_mat = sparse.lil_matrix((highest_user_id + 1, highest_restaurant_id + 1))\n",
    "ratings_mat"
   ]
  },
  {
   "cell_type": "code",
   "execution_count": 64,
   "metadata": {},
   "outputs": [],
   "source": [
    "for _, row in df_recommender_cleaned.iterrows():\n",
    "    ratings_mat[row.user_number, row.restaurant_number] = row.stars"
   ]
  },
  {
   "cell_type": "code",
   "execution_count": 65,
   "metadata": {},
   "outputs": [
    {
     "data": {
      "text/plain": [
       "<38576x3142 sparse matrix of type '<class 'numpy.float64'>'\n",
       "\twith 247323 stored elements in LInked List format>"
      ]
     },
     "execution_count": 65,
     "metadata": {},
     "output_type": "execute_result"
    }
   ],
   "source": [
    "ratings_mat"
   ]
  },
  {
   "cell_type": "markdown",
   "metadata": {},
   "source": [
    "#### Let's carry on with option #2"
   ]
  },
  {
   "cell_type": "code",
   "execution_count": 66,
   "metadata": {},
   "outputs": [],
   "source": [
    "utility_mat = ratings_mat"
   ]
  },
  {
   "cell_type": "markdown",
   "metadata": {},
   "source": [
    "## 4. Build restaurant recommender systems\n",
    "- 4.1 Popularity-based recommender\n",
    "- 4.2 Item-Item similarity recommender\n",
    "- 4.3 Matrix Factorization recommender: NMF\n",
    "- 4.4 Matrix Factorization recommender: UVD"
   ]
  },
  {
   "cell_type": "markdown",
   "metadata": {},
   "source": [
    "### 4.1 Popularity-based recommender\n",
    "\n",
    "#### For every new user or user played less than five restaurants, we build a Popularity-based recommender to recommend most popular restaurants at first.\n",
    "#### We define 'popular' as restaurants with most review records."
   ]
  },
  {
   "cell_type": "code",
   "execution_count": 22,
   "metadata": {},
   "outputs": [],
   "source": [
    "# count by restaurant_name and rank to find the mose popular restaurants\n",
    "n = 10\n",
    "\n",
    "# 'restaurant_id' for the n mostly played restaurants\n",
    "Popularity_based_10_restaurant_name = df['name'].value_counts()[:n].index.tolist()\n",
    "# corresponding 'restaurant_number' for n mostly played restaurants 'restaurant_id' \n",
    "Popularity_based_10 = []\n",
    "for i in Popularity_based_10_restaurant_name:\n",
    "    Popularity_based_10.append((restaurant_list[restaurant_list['name'] == i]['restaurant_number'].values)[0])\n",
    "\n",
    "# for top 100 recommended restaurants\n",
    "Popularity_based_100_restaurant_name = df['name'].value_counts()[:n].index.tolist()\n",
    "# corresponding 'restaurant_number' for n mostly played restaurants 'restaurant_id' \n",
    "Popularity_based_100 = []\n",
    "for i in Popularity_based_100_restaurant_name:\n",
    "    Popularity_based_100.append((restaurant_list[restaurant_list['name'] == i]['restaurant_number'].values)[0])"
   ]
  },
  {
   "cell_type": "code",
   "execution_count": 23,
   "metadata": {},
   "outputs": [
    {
     "name": "stdout",
     "output_type": "stream",
     "text": [
      "Popularity-based recommender recommends top 10 restaurants: \n",
      " [972, 920, 736, 51, 871, 718, 729, 921, 784, 651]\n"
     ]
    }
   ],
   "source": [
    "print('Popularity-based recommender recommends top ' + str(n) +' restaurants:', '\\n', str(Popularity_based_10))"
   ]
  },
  {
   "cell_type": "code",
   "execution_count": 24,
   "metadata": {},
   "outputs": [
    {
     "name": "stdout",
     "output_type": "stream",
     "text": [
      "top10 restaurants recommended by Popularity-based:\n",
      "Hash House A Go Go\n",
      "Bacchanal Buffet\n",
      "Gangnam Asian BBQ Dining\n",
      "Mon Ami Gabi\n",
      "Shake Shack\n",
      "Gordon Ramsay BurGR\n",
      "Yardbird Southern Table & Bar\n",
      "Tacos El Gordo\n",
      "SkinnyFATS\n",
      "Wicked Spoon\n"
     ]
    }
   ],
   "source": [
    "# print out the responding recommened restaurants names\n",
    "print('top10 restaurants recommended by Popularity-based:')\n",
    "\n",
    "for i in range(n):\n",
    "    print(df['name'].value_counts()[i:i+1].index.tolist()[0])"
   ]
  },
  {
   "cell_type": "markdown",
   "metadata": {},
   "source": [
    "### 4.2 Item-Item similarity recommender"
   ]
  },
  {
   "cell_type": "markdown",
   "metadata": {},
   "source": [
    "#### Let's reuse the ItemItemRecommender class derived from previous exercise\n",
    "\n",
    "Hint: we need to make modification to accommodate the dense numpy array"
   ]
  },
  {
   "cell_type": "markdown",
   "metadata": {},
   "source": [
    "#### Calculate item-item similarity matrix"
   ]
  },
  {
   "cell_type": "code",
   "execution_count": 67,
   "metadata": {},
   "outputs": [],
   "source": [
    "# Item-Item Similarity Matrix\n",
    "item_sim_mat = cosine_similarity(utility_mat.T)"
   ]
  },
  {
   "cell_type": "markdown",
   "metadata": {},
   "source": [
    "#### Calculate neighborhood"
   ]
  },
  {
   "cell_type": "code",
   "execution_count": 68,
   "metadata": {},
   "outputs": [],
   "source": [
    "least_to_most_sim_indexes = np.argsort(item_sim_mat, axis=1)\n",
    "\n",
    "# Neighborhoods\n",
    "neighborhood_size = 75\n",
    "neighborhoods = least_to_most_sim_indexes[:, -neighborhood_size:]"
   ]
  },
  {
   "cell_type": "code",
   "execution_count": 69,
   "metadata": {},
   "outputs": [
    {
     "data": {
      "text/plain": [
       "(3142, 75)"
      ]
     },
     "execution_count": 69,
     "metadata": {},
     "output_type": "execute_result"
    }
   ],
   "source": [
    "neighborhoods.shape"
   ]
  },
  {
   "cell_type": "markdown",
   "metadata": {},
   "source": [
    "#### Make rating prediction on a user"
   ]
  },
  {
   "cell_type": "code",
   "execution_count": 70,
   "metadata": {},
   "outputs": [],
   "source": [
    "# Let's pick a lucky user\n",
    "user_id = 100"
   ]
  },
  {
   "cell_type": "code",
   "execution_count": 71,
   "metadata": {},
   "outputs": [
    {
     "name": "stderr",
     "output_type": "stream",
     "text": [
      "/anaconda3/lib/python3.6/site-packages/ipykernel_launcher.py:12: RuntimeWarning: invalid value encountered in true_divide\n",
      "  if sys.path[0] == '':\n"
     ]
    },
    {
     "name": "stdout",
     "output_type": "stream",
     "text": [
      "[4.35953067 3.3596676  3.47323693 ... 0.         0.         0.        ]\n",
      "Execution time: 1.230364 seconds\n"
     ]
    }
   ],
   "source": [
    "n_users = utility_mat.shape[0]\n",
    "n_items = utility_mat.shape[1]\n",
    "\n",
    "start_time = time()\n",
    "items_rated_by_this_user = ratings_mat[user_id].nonzero()[1]\n",
    "# Just initializing so we have somewhere to put rating preds\n",
    "out = np.zeros(n_items)\n",
    "for item_to_rate in range(n_items):\n",
    "    relevant_items = np.intersect1d(neighborhoods[item_to_rate],\n",
    "                                    items_rated_by_this_user,\n",
    "                                    assume_unique=True)  # assume_unique speeds up intersection op\n",
    "    out[item_to_rate] = ratings_mat[user_id, relevant_items] * \\\n",
    "        item_sim_mat[item_to_rate, relevant_items] / \\\n",
    "        item_sim_mat[item_to_rate, relevant_items].sum()\n",
    "\n",
    "\n",
    "pred_ratings = np.nan_to_num(out)\n",
    "print(pred_ratings)\n",
    "print(\"Execution time: %f seconds\" % (time()-start_time))"
   ]
  },
  {
   "cell_type": "code",
   "execution_count": 72,
   "metadata": {},
   "outputs": [
    {
     "data": {
      "text/plain": [
       "(3142,)"
      ]
     },
     "execution_count": 72,
     "metadata": {},
     "output_type": "execute_result"
    }
   ],
   "source": [
    "pred_ratings.shape"
   ]
  },
  {
   "cell_type": "markdown",
   "metadata": {},
   "source": [
    "### Get final recommendations for a user"
   ]
  },
  {
   "cell_type": "code",
   "execution_count": 73,
   "metadata": {},
   "outputs": [
    {
     "name": "stdout",
     "output_type": "stream",
     "text": [
      "top10 restaurants recommended by Item-Item similarity recommender: [1469, 421, 2350, 2102, 618, 551, 2429, 1874, 1653, 1988]\n"
     ]
    }
   ],
   "source": [
    "# Get item indexes sorted by predicted rating\n",
    "item_index_sorted_by_pred_rating = list(np.argsort(pred_ratings))[::-1]\n",
    "\n",
    "# Find items that have been rated by user\n",
    "items_rated_by_this_user = ratings_mat[user_id].nonzero()[1]\n",
    "\n",
    "# We want to exclude the items that have been rated by user\n",
    "unrated_items_by_pred_rating = [item for item in item_index_sorted_by_pred_rating\n",
    "                                if item not in items_rated_by_this_user]\n",
    "\n",
    "# Recommend n restaurants\n",
    "n = 10\n",
    "Item_Item_10 = unrated_items_by_pred_rating[:n]\n",
    "n = 100\n",
    "Item_Item_100 = unrated_items_by_pred_rating[:n]\n",
    "\n",
    "print('top10 restaurants recommended by Item-Item similarity recommender:', Item_Item_10)"
   ]
  },
  {
   "cell_type": "code",
   "execution_count": 75,
   "metadata": {},
   "outputs": [
    {
     "name": "stdout",
     "output_type": "stream",
     "text": [
      "top10 restaurants recommended by Item-Item similarity recommender:\n",
      "Oscar's Steakhouse\n",
      "Burgerim\n",
      "Triple Play American Grill\n",
      "Wicked Slice\n",
      "Satay Thai Bistro & Bar\n",
      "Macayo's Mexican Restaurant\n",
      "Gerardo's Tacos\n",
      "Perú Chicken\n",
      "Khun Chai Thai Restaurant\n",
      "Citrus at the Downtown Grand Pool Deck\n"
     ]
    }
   ],
   "source": [
    "# print out the responding recommened restaurants names\n",
    "print('top10 restaurants recommended by Item-Item similarity recommender:')\n",
    "\n",
    "for i in unrated_items_by_pred_rating[:10]:\n",
    "    print(restaurant_list.iloc[i, 1])"
   ]
  },
  {
   "cell_type": "code",
   "execution_count": 74,
   "metadata": {},
   "outputs": [
    {
     "name": "stdout",
     "output_type": "stream",
     "text": [
      "average_abs_err: 0.34671037274181793\n"
     ]
    }
   ],
   "source": [
    "### check errors\n",
    "# truth\n",
    "ratings_true = ratings_mat[user_id, items_rated_by_this_user].todense()\n",
    "# prediction\n",
    "ratings_pred = pred_ratings[items_rated_by_this_user]\n",
    "# print(list(zip(np.array(ratings_true).squeeze(),ratings_pred)))\n",
    "err_one_user = ratings_true-ratings_pred\n",
    "# print(err_one_user)\n",
    "print(\"average_abs_err:\", abs(err_one_user).mean())"
   ]
  },
  {
   "cell_type": "markdown",
   "metadata": {},
   "source": [
    "#### Next we will try Matrix Factorization approach to build recommender, because matrix factorization models always perform better than neighborhood models in collaborative filtering. The reason as below:\n",
    "\n",
    "The reason is when we factorize a ‘m*n’ matrix into two ‘m*k’ and ‘k*n’ matrices we are reducing our \"n\"items to \"k\"factors, which means that instead than having our 3000 restaurants, we now have 500 factors where each factor is a linear combination of restaurants.  \n",
    "\n",
    "\n",
    "The key is that recommending based on factors is more robust than just using movie similarities, maybe a user hasn’t played ‘stay’ but the user might have player other restaurants that are related to ‘stay’ via some latent factors and those can be used.  \n",
    "\n",
    "\n",
    "The factors are called latent because they are there in our data but are not really discovered until we run the reduced rank matrix factorization, then the factors emerge and hence the \"latency\".  "
   ]
  },
  {
   "cell_type": "markdown",
   "metadata": {},
   "source": [
    "### 4.3 Matrix Factorization recommender: NMF\n",
    "- 4.3.1 Matrix Reconstruction error - NMF\n",
    "- 4.3.2 Recommendation - NMF"
   ]
  },
  {
   "cell_type": "code",
   "execution_count": 76,
   "metadata": {},
   "outputs": [
    {
     "name": "stdout",
     "output_type": "stream",
     "text": [
      "1069.0958942944771\n",
      "(38576, 700) (700, 3142)\n"
     ]
    }
   ],
   "source": [
    "from sklearn.decomposition import NMF\n",
    "\n",
    "def fit_nmf(M,k):\n",
    "    nmf = NMF(n_components=k)\n",
    "    nmf.fit(M)\n",
    "    W = nmf.transform(M);\n",
    "    H = nmf.components_;\n",
    "    err = nmf.reconstruction_err_\n",
    "    return W,H,err\n",
    "\n",
    "# decompose\n",
    "W,H,err = fit_nmf(ratings_mat,700)\n",
    "print(err)\n",
    "print(W.shape,H.shape)"
   ]
  },
  {
   "cell_type": "markdown",
   "metadata": {},
   "source": [
    "### 4.3.1 Matrix Reconstruction error - NMF\n",
    "- MSE (Mean squared error)\n",
    "- Average absolute error"
   ]
  },
  {
   "cell_type": "code",
   "execution_count": 79,
   "metadata": {},
   "outputs": [
    {
     "name": "stdout",
     "output_type": "stream",
     "text": [
      "RMSE:  2.084815335930057\n",
      "average_abs_err:  1.1284501711048098\n"
     ]
    }
   ],
   "source": [
    "# reconstruct\n",
    "ratings_mat_fitted = W.dot(H)\n",
    "errs = np.array((ratings_mat-ratings_mat_fitted).flatten()).squeeze()\n",
    "mask = np.array((ratings_mat.todense()).flatten()).squeeze()>0\n",
    "\n",
    "rmse = math.sqrt(np.mean(errs[mask]**2))\n",
    "average_abs_err = abs(errs[mask]).mean()\n",
    "print(\"RMSE: \", rmse)\n",
    "print(\"average_abs_err: \", average_abs_err)"
   ]
  },
  {
   "cell_type": "markdown",
   "metadata": {},
   "source": [
    "#### The RMSE of NMF is 2.0848, and the average absolute error is 1.1285, the performance is acceptable.\n",
    "#### Next we will try to get recommendations for a user: user_number = 100"
   ]
  },
  {
   "cell_type": "markdown",
   "metadata": {},
   "source": [
    "### 4.3.2 Recommendation - NMF"
   ]
  },
  {
   "cell_type": "code",
   "execution_count": 80,
   "metadata": {},
   "outputs": [
    {
     "name": "stdout",
     "output_type": "stream",
     "text": [
      "top10 restaurants recommended by NMF recommender: [168, 1463, 361, 1892, 1208, 1629, 940, 1500, 2108, 227]\n"
     ]
    }
   ],
   "source": [
    "# get recommendations for one user\n",
    "user_id = 100\n",
    "n = 10\n",
    "\n",
    "pred_ratings = ratings_mat_fitted[user_id,:]\n",
    "item_index_sorted_by_pred_rating = list(np.argsort(pred_ratings))[::-1]\n",
    "\n",
    "items_rated_by_this_user = ratings_mat[user_id].nonzero()[1]\n",
    "\n",
    "unrated_items_by_pred_rating = [item for item in item_index_sorted_by_pred_rating\n",
    "                                if item not in items_rated_by_this_user]\n",
    "\n",
    "# Recommend n restaurants\n",
    "n = 10\n",
    "NMF_10 = unrated_items_by_pred_rating[:n]\n",
    "n = 100\n",
    "NMF_100 = unrated_items_by_pred_rating[:n]\n",
    "\n",
    "print('top10 restaurants recommended by NMF recommender:', NMF_10)"
   ]
  },
  {
   "cell_type": "code",
   "execution_count": 81,
   "metadata": {},
   "outputs": [
    {
     "name": "stdout",
     "output_type": "stream",
     "text": [
      "top10 restaurants recommended by NMF recommender:\n",
      "Fuzzy's Taco Shop\n",
      "LOL Kids Club\n",
      "Cafe Sanuki\n",
      "ZiKiZ\n",
      "Fiesta Filipina Cuisine\n",
      "Rosati's\n",
      "Jenni Pho\n",
      "Siamese Bistro\n",
      "Benjarong Authentic Thai Cuisine\n",
      "Bowl Tique Avenue\n"
     ]
    }
   ],
   "source": [
    "# print out the responding recommened restaurants names\n",
    "print('top10 restaurants recommended by NMF recommender:')\n",
    "\n",
    "for i in unrated_items_by_pred_rating[:10]:\n",
    "    print(restaurant_list.iloc[i, 1])"
   ]
  },
  {
   "cell_type": "code",
   "execution_count": 82,
   "metadata": {},
   "outputs": [
    {
     "name": "stdout",
     "output_type": "stream",
     "text": [
      "0.6795087029675263\n"
     ]
    }
   ],
   "source": [
    "### check errors\n",
    "# truth\n",
    "ratings_true = ratings_mat[user_id, items_rated_by_this_user].todense()\n",
    "# prediction\n",
    "ratings_pred = pred_ratings[items_rated_by_this_user]\n",
    "# print(list(zip(np.array(ratings_true).squeeze(),ratings_pred)))\n",
    "err_one_user = ratings_true-ratings_pred\n",
    "# print(err_one_user)\n",
    "print(abs(err_one_user).mean())"
   ]
  },
  {
   "cell_type": "markdown",
   "metadata": {},
   "source": [
    "#### The result is slightly different from what we discussed above, the average absolute error of NMF is 0.6795 for this specific user is slightly worse than 0.3467 of Item-Item similarity recommender, perhaps because the size of our dataset with 3000+ restaurants is too small to show the advantage of NMF.\n",
    "#### Next we will try UVD to verify whether it performs better than NMF."
   ]
  },
  {
   "cell_type": "markdown",
   "metadata": {},
   "source": [
    "### 4.4 Matrix Factorization recommender: UVD\n",
    "- 4.4.1 Matrix Reconstruction Error - UVD\n",
    "- 4.4.2 Recommendation - UVD"
   ]
  },
  {
   "cell_type": "code",
   "execution_count": 83,
   "metadata": {},
   "outputs": [],
   "source": [
    "from sklearn.decomposition import TruncatedSVD\n",
    "\n",
    "def fit_uvd(M,k):\n",
    "    # use TruncatedSVD to realize UVD\n",
    "    svd = TruncatedSVD(n_components=k, n_iter=7, random_state=0)\n",
    "    svd.fit(M)\n",
    "\n",
    "    V = svd.components_\n",
    "    U = svd.transform(M) # effectively, it's doing: U = M.dot(V.T)\n",
    "    # we can ignore svd.singular_values_ for our purpose\n",
    "    \n",
    "    return U,V, svd\n",
    "\n",
    "# decompose\n",
    "U,V,svd = fit_uvd(ratings_mat,700)"
   ]
  },
  {
   "cell_type": "code",
   "execution_count": 84,
   "metadata": {},
   "outputs": [
    {
     "name": "stdout",
     "output_type": "stream",
     "text": [
      "(38576, 700) (700, 3142)\n"
     ]
    }
   ],
   "source": [
    "print(U.shape,V.shape)"
   ]
  },
  {
   "cell_type": "markdown",
   "metadata": {},
   "source": [
    "### 4.4.1 Matrix Reconstruction Error - UVD"
   ]
  },
  {
   "cell_type": "code",
   "execution_count": 85,
   "metadata": {},
   "outputs": [
    {
     "name": "stdout",
     "output_type": "stream",
     "text": [
      "RMSE:  1.873302782318676\n",
      "average_abs_err:  1.0795355987540387\n"
     ]
    }
   ],
   "source": [
    "# reconstruct\n",
    "ratings_mat_fitted = U.dot(V) # U*V\n",
    "\n",
    "# recall: U = M.dot(V.T), then this is M.dot(V.T).dot(V)\n",
    "# original M is transformed to new space, then transformed back\n",
    "# this is another way to understand it!\n",
    "\n",
    "# calculate errs\n",
    "errs = np.array((ratings_mat-ratings_mat_fitted).flatten()).squeeze()\n",
    "mask = np.array((ratings_mat.todense()).flatten()).squeeze()>0\n",
    "\n",
    "rmse = math.sqrt(np.mean(errs[mask]**2))\n",
    "average_abs_err = abs(errs[mask]).mean()\n",
    "print(\"RMSE: \", rmse)\n",
    "print(\"average_abs_err: \", average_abs_err)"
   ]
  },
  {
   "cell_type": "markdown",
   "metadata": {},
   "source": [
    "#### The RMSE of UVD is 1.8733 and the average absolute error is 1.0795, which are better than scores of NMF(2.0848 and 1.1285). \n",
    "#### UVD performs better because it has larger degree of freedom than NMF, to be specific, NMF is a specialization of UVD, all values of V, W, and H in NMF must be non-negative.\n",
    "#### Next we will try to get recommendations for a user: user_number = 100"
   ]
  },
  {
   "cell_type": "markdown",
   "metadata": {},
   "source": [
    "### 4.4.2 Recommendation - UVD"
   ]
  },
  {
   "cell_type": "code",
   "execution_count": 86,
   "metadata": {},
   "outputs": [
    {
     "name": "stdout",
     "output_type": "stream",
     "text": [
      "top10 restaurants recommended by UVD recommender: [933, 599, 1083, 1752, 673, 2108, 1154, 1629, 1891, 374]\n"
     ]
    }
   ],
   "source": [
    "# get recommendations for one user\n",
    "user_id = 100\n",
    "\n",
    "pred_ratings = ratings_mat_fitted[user_id,:]\n",
    "item_index_sorted_by_pred_rating = list(np.argsort(pred_ratings))[::-1]\n",
    "\n",
    "items_rated_by_this_user = ratings_mat[user_id].nonzero()[1]\n",
    "\n",
    "unrated_items_by_pred_rating = [item for item in item_index_sorted_by_pred_rating\n",
    "                                if item not in items_rated_by_this_user]\n",
    "\n",
    "# Recommend n restaurants\n",
    "n = 10\n",
    "UVD_10 = unrated_items_by_pred_rating[:n]\n",
    "n = 100\n",
    "UVD_100 = unrated_items_by_pred_rating[:n]\n",
    "\n",
    "print('top10 restaurants recommended by UVD recommender:', UVD_10)"
   ]
  },
  {
   "cell_type": "code",
   "execution_count": 87,
   "metadata": {},
   "outputs": [
    {
     "name": "stdout",
     "output_type": "stream",
     "text": [
      "top10 restaurants recommended by UVD recommender:\n",
      "Swish Shabu Shabu\n",
      "Kyara Japanese Tapas\n",
      "Tea Station\n",
      "Little Caesars Pizza\n",
      "TangTangTang\n",
      "Benjarong Authentic Thai Cuisine\n",
      "808 Sushi\n",
      "Rosati's\n",
      "Pineapple Park\n",
      "Cheeburger Cheeburger Express\n"
     ]
    }
   ],
   "source": [
    "# print out the responding recommened restaurants names\n",
    "print('top10 restaurants recommended by UVD recommender:')\n",
    "\n",
    "for i in unrated_items_by_pred_rating[:10]:\n",
    "    print(restaurant_list.iloc[i, 1])"
   ]
  },
  {
   "cell_type": "code",
   "execution_count": 88,
   "metadata": {},
   "outputs": [
    {
     "name": "stdout",
     "output_type": "stream",
     "text": [
      "0.5461330854070534\n"
     ]
    }
   ],
   "source": [
    "### check errors\n",
    "# truth\n",
    "ratings_true = ratings_mat[user_id, items_rated_by_this_user].todense()\n",
    "# prediction\n",
    "ratings_pred = pred_ratings[items_rated_by_this_user]\n",
    "# print(list(zip(np.array(ratings_true).squeeze(),ratings_pred)))\n",
    "err_one_user = ratings_true-ratings_pred\n",
    "# print(err_one_user)\n",
    "print(abs(err_one_user).mean())"
   ]
  },
  {
   "cell_type": "markdown",
   "metadata": {},
   "source": [
    "#### With an average absolute error of 0.5461, which is slightly better than 0.6795 of NMF."
   ]
  },
  {
   "cell_type": "markdown",
   "metadata": {},
   "source": [
    "## 5 Specific recommendation results comparison and insights\n",
    "\n",
    "#### Next we compare the recommendation results for 'user with user_number = 100' generated by the four models above. We generate the overlap tabel of the top_10 results given by the four models for 'user with user_number = 100'"
   ]
  },
  {
   "cell_type": "code",
   "execution_count": 89,
   "metadata": {},
   "outputs": [
    {
     "name": "stdout",
     "output_type": "stream",
     "text": [
      "The overlap of the top 10 recommendation generated by these four models\n"
     ]
    },
    {
     "data": {
      "text/html": [
       "<div>\n",
       "<style scoped>\n",
       "    .dataframe tbody tr th:only-of-type {\n",
       "        vertical-align: middle;\n",
       "    }\n",
       "\n",
       "    .dataframe tbody tr th {\n",
       "        vertical-align: top;\n",
       "    }\n",
       "\n",
       "    .dataframe thead th {\n",
       "        text-align: right;\n",
       "    }\n",
       "</style>\n",
       "<table border=\"1\" class=\"dataframe\">\n",
       "  <thead>\n",
       "    <tr style=\"text-align: right;\">\n",
       "      <th></th>\n",
       "      <th>number_of_same_recommended_restaurants_in_10</th>\n",
       "    </tr>\n",
       "  </thead>\n",
       "  <tbody>\n",
       "    <tr>\n",
       "      <th>Popularity-based_with_Item-Item</th>\n",
       "      <td>0</td>\n",
       "    </tr>\n",
       "    <tr>\n",
       "      <th>Popularity-based_with_NMF</th>\n",
       "      <td>0</td>\n",
       "    </tr>\n",
       "    <tr>\n",
       "      <th>Popularity-based_with_UVD</th>\n",
       "      <td>0</td>\n",
       "    </tr>\n",
       "    <tr>\n",
       "      <th>Item-Item_with_NMF</th>\n",
       "      <td>0</td>\n",
       "    </tr>\n",
       "    <tr>\n",
       "      <th>Item-Item_with_UVD</th>\n",
       "      <td>0</td>\n",
       "    </tr>\n",
       "    <tr>\n",
       "      <th>NMF_with_UVD</th>\n",
       "      <td>2</td>\n",
       "    </tr>\n",
       "    <tr>\n",
       "      <th>Popularity-based_with_Item-Item_with_NMF_with_UVD</th>\n",
       "      <td>0</td>\n",
       "    </tr>\n",
       "  </tbody>\n",
       "</table>\n",
       "</div>"
      ],
      "text/plain": [
       "                                                   number_of_same_recommended_restaurants_in_10\n",
       "Popularity-based_with_Item-Item                                                               0\n",
       "Popularity-based_with_NMF                                                                     0\n",
       "Popularity-based_with_UVD                                                                     0\n",
       "Item-Item_with_NMF                                                                            0\n",
       "Item-Item_with_UVD                                                                            0\n",
       "NMF_with_UVD                                                                                  2\n",
       "Popularity-based_with_Item-Item_with_NMF_with_UVD                                             0"
      ]
     },
     "execution_count": 89,
     "metadata": {},
     "output_type": "execute_result"
    }
   ],
   "source": [
    "top10_overlap = pd.DataFrame([len(np.intersect1d(Popularity_based_10, Item_Item_10)),\n",
    "                                   len(np.intersect1d(Popularity_based_10, UVD_10)),\n",
    "                                   len(np.intersect1d(Popularity_based_10, NMF_10)),\n",
    "                                   len(np.intersect1d(Item_Item_10, NMF_10)),\n",
    "                                   len(np.intersect1d(Item_Item_10, UVD_10)),\n",
    "                                   len(np.intersect1d(NMF_10, UVD_10)),\n",
    "                                   len(np.intersect1d(np.intersect1d(np.intersect1d(Popularity_based_10, Item_Item_10), NMF_10), UVD_10))],\n",
    "                                 index = ['Popularity-based_with_Item-Item',\n",
    "                                           'Popularity-based_with_NMF',\n",
    "                                           'Popularity-based_with_UVD',\n",
    "                                           'Item-Item_with_NMF',\n",
    "                                           'Item-Item_with_UVD',\n",
    "                                           'NMF_with_UVD',\n",
    "                                           'Popularity-based_with_Item-Item_with_NMF_with_UVD'],\n",
    "                                 columns = ['number_of_same_recommended_restaurants_in_10'])\n",
    "print('The overlap of the top 10 recommendation generated by these four models') \n",
    "top10_overlap"
   ]
  },
  {
   "cell_type": "markdown",
   "metadata": {},
   "source": [
    "#### We generate the overlap tabel of the top_100 results given by the four models for 'user with user_number = 100'"
   ]
  },
  {
   "cell_type": "code",
   "execution_count": 90,
   "metadata": {},
   "outputs": [
    {
     "name": "stdout",
     "output_type": "stream",
     "text": [
      "The overlap of the top 100 recommendation generated by these four models\n"
     ]
    },
    {
     "data": {
      "text/html": [
       "<div>\n",
       "<style scoped>\n",
       "    .dataframe tbody tr th:only-of-type {\n",
       "        vertical-align: middle;\n",
       "    }\n",
       "\n",
       "    .dataframe tbody tr th {\n",
       "        vertical-align: top;\n",
       "    }\n",
       "\n",
       "    .dataframe thead th {\n",
       "        text-align: right;\n",
       "    }\n",
       "</style>\n",
       "<table border=\"1\" class=\"dataframe\">\n",
       "  <thead>\n",
       "    <tr style=\"text-align: right;\">\n",
       "      <th></th>\n",
       "      <th>number_of_same_recommended_restaurants_in_100</th>\n",
       "    </tr>\n",
       "  </thead>\n",
       "  <tbody>\n",
       "    <tr>\n",
       "      <th>Popularity-based_with_Item-Item</th>\n",
       "      <td>0</td>\n",
       "    </tr>\n",
       "    <tr>\n",
       "      <th>Popularity-based_with_NMF</th>\n",
       "      <td>0</td>\n",
       "    </tr>\n",
       "    <tr>\n",
       "      <th>Popularity-based_with_UVD</th>\n",
       "      <td>0</td>\n",
       "    </tr>\n",
       "    <tr>\n",
       "      <th>Item-Item_with_NMF</th>\n",
       "      <td>2</td>\n",
       "    </tr>\n",
       "    <tr>\n",
       "      <th>Item-Item_with_UVD</th>\n",
       "      <td>2</td>\n",
       "    </tr>\n",
       "    <tr>\n",
       "      <th>NMF_with_UVD</th>\n",
       "      <td>40</td>\n",
       "    </tr>\n",
       "    <tr>\n",
       "      <th>Popularity-based_with_Item-Item_with_NMF_with_UVD</th>\n",
       "      <td>0</td>\n",
       "    </tr>\n",
       "  </tbody>\n",
       "</table>\n",
       "</div>"
      ],
      "text/plain": [
       "                                                   number_of_same_recommended_restaurants_in_100\n",
       "Popularity-based_with_Item-Item                                                                0\n",
       "Popularity-based_with_NMF                                                                      0\n",
       "Popularity-based_with_UVD                                                                      0\n",
       "Item-Item_with_NMF                                                                             2\n",
       "Item-Item_with_UVD                                                                             2\n",
       "NMF_with_UVD                                                                                  40\n",
       "Popularity-based_with_Item-Item_with_NMF_with_UVD                                              0"
      ]
     },
     "execution_count": 90,
     "metadata": {},
     "output_type": "execute_result"
    }
   ],
   "source": [
    "top100_overlap = pd.DataFrame([len(np.intersect1d(Popularity_based_100, Item_Item_100)),\n",
    "                                   len(np.intersect1d(Popularity_based_100, UVD_100)),\n",
    "                                   len(np.intersect1d(Popularity_based_100, NMF_100)),\n",
    "                                   len(np.intersect1d(Item_Item_100, NMF_100)),\n",
    "                                   len(np.intersect1d(Item_Item_100, UVD_100)),\n",
    "                                   len(np.intersect1d(NMF_100, UVD_100)),\n",
    "                                   len(np.intersect1d(np.intersect1d(np.intersect1d(Popularity_based_100, Item_Item_100), NMF_100), UVD_100))],\n",
    "                                 index = ['Popularity-based_with_Item-Item',\n",
    "                                           'Popularity-based_with_NMF',\n",
    "                                           'Popularity-based_with_UVD',\n",
    "                                           'Item-Item_with_NMF',\n",
    "                                           'Item-Item_with_UVD',\n",
    "                                           'NMF_with_UVD',\n",
    "                                           'Popularity-based_with_Item-Item_with_NMF_with_UVD'],\n",
    "                                 columns = ['number_of_same_recommended_restaurants_in_100'])\n",
    "print('The overlap of the top 100 recommendation generated by these four models') \n",
    "top100_overlap"
   ]
  },
  {
   "cell_type": "markdown",
   "metadata": {},
   "source": [
    "### From the intersets tables above, we notice that: \n",
    "\n",
    "1. The recommended songs given by Popularity-based, Neighborhood-based approach and Matrix Factorization approach models are very different from each other, have no overlap in top 10 and only 2 in top 100 recommended songs.  \n",
    "\n",
    "2. While the recommended songs given by NMF and TruncatedSVD have 2 overlaps in top 10 and 40 overlaps in top 100 recommended songs.  "
   ]
  },
  {
   "cell_type": "markdown",
   "metadata": {},
   "source": [
    "### Conlcusion:\n",
    "\n",
    "1. For new user or user reviewed less than three restaurants, we can recommend most popular restaurants at first generated by our Popularity-based recommender.  \n",
    "\n",
    "2. For user reviewed more than three restaurants:  \n",
    "2.1 Given the performances of NMF and UVD are comparable, we can have the overlap of commendation results generated by these two models as the final recommendation.  \n",
    "2.2 As the results generated by Popularity-based, Neighborhood-based Approach and Matrix Factorization Approach models are totally different, we can allocate different weights to these models to construct the final recommendation.   \n",
    "Like 0.2 for Popularity-based, 0.2 for Neighborhood-based, 0.6 for overlap of NMF and UVD.   "
   ]
  },
  {
   "cell_type": "code",
   "execution_count": null,
   "metadata": {},
   "outputs": [],
   "source": []
  }
 ],
 "metadata": {
  "anaconda-cloud": {},
  "kernelspec": {
   "display_name": "Python 3",
   "language": "python",
   "name": "python3"
  },
  "language_info": {
   "codemirror_mode": {
    "name": "ipython",
    "version": 3
   },
   "file_extension": ".py",
   "mimetype": "text/x-python",
   "name": "python",
   "nbconvert_exporter": "python",
   "pygments_lexer": "ipython3",
   "version": "3.6.5"
  }
 },
 "nbformat": 4,
 "nbformat_minor": 1
}
